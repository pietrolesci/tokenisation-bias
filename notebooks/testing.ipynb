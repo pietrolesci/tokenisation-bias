{
 "cells": [
  {
   "cell_type": "code",
   "execution_count": 5,
   "metadata": {},
   "outputs": [],
   "source": [
    "from huggingface_hub import snapshot_download"
   ]
  },
  {
   "cell_type": "code",
   "execution_count": 4,
   "metadata": {},
   "outputs": [
    {
     "data": {
      "application/vnd.jupyter.widget-view+json": {
       "model_id": "2a9707f38baf4a3cb9022dbf0d527364",
       "version_major": 2,
       "version_minor": 0
      },
      "text/plain": [
       "Fetching 7 files:   0%|          | 0/7 [00:00<?, ?it/s]"
      ]
     },
     "metadata": {},
     "output_type": "display_data"
    },
    {
     "data": {
      "application/vnd.jupyter.widget-view+json": {
       "model_id": "0759b29670ca41d690c9d0df28fddcc9",
       "version_major": 2,
       "version_minor": 0
      },
      "text/plain": [
       "bpe32000/000_bpe32000.ds.metadata:   0%|          | 0.00/80.0 [00:00<?, ?B/s]"
      ]
     },
     "metadata": {},
     "output_type": "display_data"
    },
    {
     "data": {
      "application/vnd.jupyter.widget-view+json": {
       "model_id": "48c280fcbed748b88e86190fcae663d6",
       "version_major": 2,
       "version_minor": 0
      },
      "text/plain": [
       "bpe32000/001_bpe32000.ds.index:   0%|          | 0.00/64.6k [00:00<?, ?B/s]"
      ]
     },
     "metadata": {},
     "output_type": "display_data"
    },
    {
     "data": {
      "application/vnd.jupyter.widget-view+json": {
       "model_id": "e30b9d4bd0754669b7157304f3016b0f",
       "version_major": 2,
       "version_minor": 0
      },
      "text/plain": [
       "bpe32000/001_bpe32000.ds.metadata:   0%|          | 0.00/76.0 [00:00<?, ?B/s]"
      ]
     },
     "metadata": {},
     "output_type": "display_data"
    },
    {
     "data": {
      "application/vnd.jupyter.widget-view+json": {
       "model_id": "b3dc42224671403f845d1dcbb38b92e7",
       "version_major": 2,
       "version_minor": 0
      },
      "text/plain": [
       "000_bpe32000.ds:   0%|          | 0.00/20.0G [00:00<?, ?B/s]"
      ]
     },
     "metadata": {},
     "output_type": "display_data"
    },
    {
     "data": {
      "application/vnd.jupyter.widget-view+json": {
       "model_id": "88cd0fb3507f407989a75f6a750daa61",
       "version_major": 2,
       "version_minor": 0
      },
      "text/plain": [
       "bpe32000/bpe32000.ds.metadata:   0%|          | 0.00/80.0 [00:00<?, ?B/s]"
      ]
     },
     "metadata": {},
     "output_type": "display_data"
    },
    {
     "data": {
      "application/vnd.jupyter.widget-view+json": {
       "model_id": "7a6c4a7e14ff4a8a840593b4e3e8d79e",
       "version_major": 2,
       "version_minor": 0
      },
      "text/plain": [
       "001_bpe32000.ds:   0%|          | 0.00/17.3M [00:00<?, ?B/s]"
      ]
     },
     "metadata": {},
     "output_type": "display_data"
    },
    {
     "data": {
      "application/vnd.jupyter.widget-view+json": {
       "model_id": "cce8d70ddf0c4f358bb8a006cfc6f142",
       "version_major": 2,
       "version_minor": 0
      },
      "text/plain": [
       "000_bpe32000.ds.index:   0%|          | 0.00/77.3M [00:00<?, ?B/s]"
      ]
     },
     "metadata": {},
     "output_type": "display_data"
    },
    {
     "data": {
      "text/plain": [
       "'/home/pl487/rdd/data'"
      ]
     },
     "execution_count": 4,
     "metadata": {},
     "output_type": "execute_result"
    }
   ],
   "source": [
    "snapshot_download(\n",
    "    repo_id=\"pietrolesci/fineweb-edu-10BT\", repo_type=\"dataset\", local_dir=\"data\", allow_patterns=\"bpe32000/*\"\n",
    ")"
   ]
  },
  {
   "cell_type": "code",
   "execution_count": 7,
   "metadata": {},
   "outputs": [],
   "source": [
    "from datatrove.utils.dataset import DatatroveFolderDataset\n",
    "\n",
    "ds = DatatroveFolderDataset(\n",
    "    folder_path=\"data/fineweb-edu-10BT/bpe32000/\",\n",
    "    filename_pattern=\"data/fineweb-edu-10BT/bpe32000/*.ds\",\n",
    "    seq_len=2048,\n",
    "    shuffle=False,\n",
    "    seed=42,\n",
    "    token_size=2,\n",
    ")"
   ]
  },
  {
   "cell_type": "code",
   "execution_count": 23,
   "metadata": {},
   "outputs": [],
   "source": [
    "import torch\n",
    "from torch.utils.data import DataLoader\n",
    "from transformers import AutoModelForCausalLM"
   ]
  },
  {
   "cell_type": "code",
   "execution_count": 22,
   "metadata": {},
   "outputs": [],
   "source": [
    "model = AutoModelForCausalLM.from_pretrained(\n",
    "    \"/home/pl487/rdd/outputs/model_train/pythia_bpe32000_2024-09-19T16-00-04/checkpoints/checkpoint-0\"\n",
    ")\n",
    "model = model.eval()"
   ]
  },
  {
   "cell_type": "code",
   "execution_count": 25,
   "metadata": {},
   "outputs": [],
   "source": [
    "batch = next(iter(DataLoader(ds, batch_size=5, shuffle=False)))"
   ]
  },
  {
   "cell_type": "code",
   "execution_count": 28,
   "metadata": {},
   "outputs": [
    {
     "name": "stderr",
     "output_type": "stream",
     "text": [
      "We detected that you are passing `past_key_values` as a tuple and this is deprecated and will be removed in v4.45. Please use an appropriate `Cache` class (https://huggingface.co/docs/transformers/internal/generation_utils#transformers.Cache)\n"
     ]
    }
   ],
   "source": [
    "with torch.inference_mode():\n",
    "    input_ids = batch[\"input_ids\"]\n",
    "    labels = input_ids.clone()\n",
    "    loss1 = model(input_ids=input_ids, labels=labels).loss"
   ]
  },
  {
   "cell_type": "code",
   "execution_count": 34,
   "metadata": {},
   "outputs": [],
   "source": [
    "with torch.inference_mode():\n",
    "    input_ids = batch[\"input_ids\"][:, :-1]\n",
    "    labels = batch[\"input_ids\"][:, 1:]\n",
    "    logits = model.forward(input_ids=input_ids).logits\n",
    "    loss2 = torch.nn.functional.cross_entropy(logits.permute(0, 2, 1), labels)"
   ]
  },
  {
   "cell_type": "code",
   "execution_count": 1,
   "metadata": {},
   "outputs": [],
   "source": [
    "from datasets import Dataset, load_from_disk"
   ]
  },
  {
   "cell_type": "code",
   "execution_count": 50,
   "metadata": {},
   "outputs": [],
   "source": [
    "ds = Dataset.from_parquet(\"/home/pl487/rdd/data/slim-pajama-eval-bpe32000/data.parquet\")"
   ]
  },
  {
   "cell_type": "code",
   "execution_count": 53,
   "metadata": {},
   "outputs": [],
   "source": [
    "ds = ds.shuffle(seed=42)"
   ]
  },
  {
   "cell_type": "code",
   "execution_count": 54,
   "metadata": {},
   "outputs": [],
   "source": [
    "ds = ds.take(20_000)"
   ]
  },
  {
   "cell_type": "code",
   "execution_count": 56,
   "metadata": {},
   "outputs": [],
   "source": [
    "ds = ds.select_columns([\"uid\", \"input_ids\"])"
   ]
  },
  {
   "cell_type": "code",
   "execution_count": 63,
   "metadata": {},
   "outputs": [
    {
     "data": {
      "application/vnd.jupyter.widget-view+json": {
       "model_id": "e8fc21495fc6457ebf767ce8a9f58887",
       "version_major": 2,
       "version_minor": 0
      },
      "text/plain": [
       "Saving the dataset (0/1 shards):   0%|          | 0/20000 [00:00<?, ? examples/s]"
      ]
     },
     "metadata": {},
     "output_type": "display_data"
    }
   ],
   "source": [
    "ds.save_to_disk(\"/home/pl487/rdd/data/slim-pajama-eval-bpe32000/validation_dataset\")"
   ]
  },
  {
   "cell_type": "code",
   "execution_count": 11,
   "metadata": {},
   "outputs": [],
   "source": [
    "ds = load_from_disk(\"/home/pl487/rdd/data/slim-pajama-eval-bpe32000/validation_dataset\")"
   ]
  },
  {
   "cell_type": "code",
   "execution_count": 12,
   "metadata": {},
   "outputs": [],
   "source": [
    "df = ds.to_polars()"
   ]
  },
  {
   "cell_type": "code",
   "execution_count": 13,
   "metadata": {},
   "outputs": [],
   "source": [
    "import polars as pl"
   ]
  },
  {
   "cell_type": "code",
   "execution_count": 19,
   "metadata": {},
   "outputs": [],
   "source": [
    "df = (\n",
    "    df.with_columns(pl.col(\"input_ids\").list.slice(0, 2049))\n",
    "    .with_columns(len=pl.col(\"input_ids\").list.len())\n",
    "    .sort(\"len\", descending=True)\n",
    "    .drop(\"len\")\n",
    ")"
   ]
  },
  {
   "cell_type": "code",
   "execution_count": 20,
   "metadata": {},
   "outputs": [],
   "source": [
    "ds = Dataset.from_polars(df)"
   ]
  },
  {
   "cell_type": "code",
   "execution_count": 21,
   "metadata": {},
   "outputs": [
    {
     "data": {
      "application/vnd.jupyter.widget-view+json": {
       "model_id": "be94a5d0f5034905ae30caab91617d47",
       "version_major": 2,
       "version_minor": 0
      },
      "text/plain": [
       "Saving the dataset (0/1 shards):   0%|          | 0/20000 [00:00<?, ? examples/s]"
      ]
     },
     "metadata": {},
     "output_type": "display_data"
    }
   ],
   "source": [
    "ds.save_to_disk(\"/home/pl487/rdd/data/slim-pajama-eval-bpe32000/validation_dataset\")"
   ]
  },
  {
   "cell_type": "code",
   "execution_count": null,
   "metadata": {},
   "outputs": [],
   "source": []
  },
  {
   "cell_type": "code",
   "execution_count": 60,
   "metadata": {},
   "outputs": [],
   "source": [
    "pds = ds.to_pandas()"
   ]
  },
  {
   "cell_type": "code",
   "execution_count": 62,
   "metadata": {},
   "outputs": [
    {
     "data": {
      "text/plain": [
       "count     20000.000000\n",
       "mean       1112.514700\n",
       "std        7862.181971\n",
       "min          24.000000\n",
       "25%         205.000000\n",
       "50%         482.000000\n",
       "75%         983.000000\n",
       "max      752280.000000\n",
       "Name: input_ids, dtype: float64"
      ]
     },
     "execution_count": 62,
     "metadata": {},
     "output_type": "execute_result"
    }
   ],
   "source": [
    "pds[\"input_ids\"].map(len).describe()"
   ]
  },
  {
   "cell_type": "code",
   "execution_count": null,
   "metadata": {},
   "outputs": [],
   "source": []
  },
  {
   "cell_type": "code",
   "execution_count": null,
   "metadata": {},
   "outputs": [],
   "source": []
  },
  {
   "cell_type": "code",
   "execution_count": null,
   "metadata": {},
   "outputs": [],
   "source": []
  },
  {
   "cell_type": "code",
   "execution_count": null,
   "metadata": {},
   "outputs": [],
   "source": []
  },
  {
   "cell_type": "code",
   "execution_count": null,
   "metadata": {},
   "outputs": [],
   "source": []
  },
  {
   "cell_type": "code",
   "execution_count": null,
   "metadata": {},
   "outputs": [],
   "source": []
  },
  {
   "cell_type": "code",
   "execution_count": null,
   "metadata": {},
   "outputs": [],
   "source": []
  },
  {
   "cell_type": "code",
   "execution_count": null,
   "metadata": {},
   "outputs": [],
   "source": []
  },
  {
   "cell_type": "code",
   "execution_count": 35,
   "metadata": {},
   "outputs": [
    {
     "data": {
      "text/plain": [
       "tensor(10.3929)"
      ]
     },
     "execution_count": 35,
     "metadata": {},
     "output_type": "execute_result"
    }
   ],
   "source": [
    "loss2"
   ]
  },
  {
   "cell_type": "code",
   "execution_count": null,
   "metadata": {},
   "outputs": [],
   "source": []
  },
  {
   "cell_type": "code",
   "execution_count": 10,
   "metadata": {},
   "outputs": [],
   "source": [
    "from pathlib import Path\n",
    "\n",
    "import polars as pl\n",
    "import srsly\n",
    "import torch\n",
    "from transformers import AutoModelForCausalLM, AutoTokenizer"
   ]
  },
  {
   "cell_type": "code",
   "execution_count": 2,
   "metadata": {},
   "outputs": [],
   "source": [
    "ds = load_from_disk(\"/home/pl487/rdd/data/slim-pajama-eval-bpe32000/eval_samples/\")\n",
    "model = AutoModelForCausalLM.from_pretrained(\n",
    "    \"/home/pl487/rdd/outputs/model_train/pythia-9M-bpe32000/checkpoints/checkpoint-50000\"\n",
    ")"
   ]
  },
  {
   "cell_type": "code",
   "execution_count": 3,
   "metadata": {},
   "outputs": [
    {
     "data": {
      "text/plain": [
       "torch.Size([3, 2049])"
      ]
     },
     "execution_count": 3,
     "metadata": {},
     "output_type": "execute_result"
    }
   ],
   "source": [
    "batch = torch.tensor(ds[:3][\"input_ids\"], dtype=torch.long)\n",
    "batch.shape"
   ]
  },
  {
   "cell_type": "code",
   "execution_count": 4,
   "metadata": {},
   "outputs": [],
   "source": [
    "raw_tok_path = Path(\"/home/pl487/rdd/outputs/tokenizers/bpe32000/\")\n",
    "tok = AutoTokenizer.from_pretrained(raw_tok_path)\n",
    "prefix_map = {d[\"prefix\"]: d[\"new_token_id\"] for d in srsly.read_jsonl(raw_tok_path / \"prefix_map_bpe32000.jsonl\")}"
   ]
  },
  {
   "cell_type": "code",
   "execution_count": 5,
   "metadata": {},
   "outputs": [],
   "source": [
    "# batch_mapping = [\n",
    "#     prefix_map.get(t, []) + [t] if (i + 1) % 2 == 0 else [t] for i, t in enumerate(batch[:, -2:].flatten().tolist())\n",
    "# ]\n",
    "batch_mapping: list[tuple[int, list[int]]] = []\n",
    "for penultimate_token, last_token in batch[:, -2:].unbind():\n",
    "    # penultimate token only needs itself (always)\n",
    "    m_penultimate = penultimate_token.item()\n",
    "\n",
    "    # for the last token we apply the trick\n",
    "    m_last = [last_token.item()] + prefix_map.get(last_token.item(), [])\n",
    "\n",
    "    batch_mapping.append((m_penultimate, m_last))"
   ]
  },
  {
   "cell_type": "code",
   "execution_count": 26,
   "metadata": {},
   "outputs": [
    {
     "data": {
      "text/plain": [
       "[' I', ' said', ',', ' \"', 'Why', ' would', ' you', ' leave', ' Ann', ' Arbor']"
      ]
     },
     "execution_count": 26,
     "metadata": {},
     "output_type": "execute_result"
    }
   ],
   "source": []
  },
  {
   "cell_type": "code",
   "execution_count": null,
   "metadata": {},
   "outputs": [],
   "source": []
  },
  {
   "cell_type": "code",
   "execution_count": 6,
   "metadata": {},
   "outputs": [
    {
     "name": "stderr",
     "output_type": "stream",
     "text": [
      "We detected that you are passing `past_key_values` as a tuple and this is deprecated and will be removed in v4.45. Please use an appropriate `Cache` class (https://huggingface.co/docs/transformers/internal/generation_utils#transformers.Cache)\n"
     ]
    }
   ],
   "source": [
    "model.eval()\n",
    "with torch.inference_mode():\n",
    "    logits = model.forward(input_ids=batch[:, :-1]).logits\n",
    "    probs = logits.softmax(-1)\n",
    "\n",
    "last_tokens_probs = probs[:, -2:, :]"
   ]
  },
  {
   "cell_type": "code",
   "execution_count": 31,
   "metadata": {},
   "outputs": [
    {
     "data": {
      "text/plain": [
       "[' I', ' said', ',', ' \"', 'Why', ' would', ' you', ' leave', ' Ann', ' Arbor']"
      ]
     },
     "execution_count": 31,
     "metadata": {},
     "output_type": "execute_result"
    }
   ],
   "source": [
    "tok.batch_decode(batch.numpy()[0, -10:])"
   ]
  },
  {
   "cell_type": "code",
   "execution_count": 32,
   "metadata": {},
   "outputs": [
    {
     "data": {
      "text/plain": [
       "[' He', \"'m\", ',', ' \"', 'I', ' is', ' you', ' like', ' the', 'ie']"
      ]
     },
     "execution_count": 32,
     "metadata": {},
     "output_type": "execute_result"
    }
   ],
   "source": [
    "tok.batch_decode(logits[0, -10:].argmax(-1).numpy())"
   ]
  },
  {
   "cell_type": "code",
   "execution_count": null,
   "metadata": {},
   "outputs": [],
   "source": []
  },
  {
   "cell_type": "code",
   "execution_count": null,
   "metadata": {},
   "outputs": [],
   "source": []
  },
  {
   "cell_type": "code",
   "execution_count": null,
   "metadata": {},
   "outputs": [],
   "source": [
    "mask = torch.zeros_like(last_tokens_probs)\n",
    "mask.shape"
   ]
  },
  {
   "cell_type": "code",
   "execution_count": 37,
   "metadata": {},
   "outputs": [],
   "source": [
    "mask = torch.zeros_like(last_tokens_probs)\n",
    "for idx, (m_penultimate, m_last) in enumerate(batch_mapping):\n",
    "    # penultimate token only gets its position\n",
    "    mask[idx, -2, m_penultimate] = 1.0\n",
    "\n",
    "    # last token gets the fix\n",
    "    mask[idx, -1, m_last] = 1.0"
   ]
  },
  {
   "cell_type": "code",
   "execution_count": null,
   "metadata": {},
   "outputs": [],
   "source": [
    "# check it gets the correct eleements\n",
    "batch_mapping, (last_tokens_probs * mask).nonzero()"
   ]
  },
  {
   "cell_type": "code",
   "execution_count": null,
   "metadata": {},
   "outputs": [],
   "source": [
    "(last_tokens_probs * mask).sum(-1)"
   ]
  },
  {
   "cell_type": "code",
   "execution_count": null,
   "metadata": {},
   "outputs": [],
   "source": [
    "list(map(len, batch_mapping)), mask.sum(-1)"
   ]
  },
  {
   "cell_type": "code",
   "execution_count": null,
   "metadata": {},
   "outputs": [],
   "source": []
  },
  {
   "cell_type": "code",
   "execution_count": 237,
   "metadata": {},
   "outputs": [],
   "source": [
    "last_token_ids = t[:, -2:]\n",
    "last_token_logprobs = logprobs[:, -2:, :]"
   ]
  },
  {
   "cell_type": "code",
   "execution_count": null,
   "metadata": {},
   "outputs": [],
   "source": [
    "tokens = last_token_ids.clone().flatten().cpu().numpy().tolist()\n",
    "it = last_token_logprobs.reshape(-1, last_token_logprobs.shape[-1])\n",
    "\n",
    "out = []\n",
    "for idx, tok in enumerate(tokens):\n",
    "    # Take other tokens where tok is a prefix + itself\n",
    "    ids = prefix_map.get(tok, []) + [tok]\n",
    "    o = it[idx, ids]\n",
    "    out.append(o)"
   ]
  },
  {
   "cell_type": "code",
   "execution_count": null,
   "metadata": {},
   "outputs": [],
   "source": [
    "tokens"
   ]
  },
  {
   "cell_type": "code",
   "execution_count": null,
   "metadata": {},
   "outputs": [],
   "source": [
    "last_token_logprobs.reshape(-1, last_token_logprobs.shape[-1])"
   ]
  },
  {
   "cell_type": "code",
   "execution_count": null,
   "metadata": {},
   "outputs": [],
   "source": [
    "# mask = torch.zeros_like(last_token_logprobs).reshape(last_token_logprobs.shape[0], -1)\n",
    "mask = torch.zeros_like(last_token_logprobs).reshape(-1)\n",
    "mask.shape"
   ]
  },
  {
   "cell_type": "code",
   "execution_count": null,
   "metadata": {},
   "outputs": [],
   "source": [
    "last_token_ids"
   ]
  },
  {
   "cell_type": "code",
   "execution_count": 271,
   "metadata": {},
   "outputs": [],
   "source": [
    "tokens = last_token_ids.clone().flatten().cpu().numpy().tolist()\n",
    "\n",
    "pos = []\n",
    "for tok in tokens:\n",
    "    # Take other tokens where tok is a prefix + itself\n",
    "    pos.append(prefix_map.get(tok, []) + [tok])"
   ]
  },
  {
   "cell_type": "code",
   "execution_count": null,
   "metadata": {},
   "outputs": [],
   "source": [
    "pos"
   ]
  },
  {
   "cell_type": "code",
   "execution_count": null,
   "metadata": {},
   "outputs": [],
   "source": []
  },
  {
   "cell_type": "code",
   "execution_count": null,
   "metadata": {},
   "outputs": [],
   "source": [
    "last_token_ids.flatten()"
   ]
  },
  {
   "cell_type": "code",
   "execution_count": null,
   "metadata": {},
   "outputs": [],
   "source": []
  },
  {
   "cell_type": "code",
   "execution_count": null,
   "metadata": {},
   "outputs": [],
   "source": [
    "# batch, token_position_in_seq, token_position_in_vocab\n",
    "logprobs[0, -2, 6106], logprobs[0, -1, 30681]"
   ]
  },
  {
   "cell_type": "code",
   "execution_count": null,
   "metadata": {},
   "outputs": [],
   "source": [
    "# batch_size, seq_len, added\n",
    "last_token_ids = t[:, -2:].unsqueeze(-1)\n",
    "print(last_token_ids.shape)\n",
    "last_token_ids"
   ]
  },
  {
   "cell_type": "code",
   "execution_count": null,
   "metadata": {},
   "outputs": [],
   "source": [
    "last_token_logprobs = logprobs[:, -2:, :]\n",
    "print(last_token_logprobs.shape)\n",
    "last_token_logprobs"
   ]
  },
  {
   "cell_type": "code",
   "execution_count": null,
   "metadata": {},
   "outputs": [],
   "source": [
    "res = last_token_logprobs.take_along_dim(dim=-1, indices=last_token_ids)\n",
    "print(res.shape)\n",
    "res.squeeze(-1)"
   ]
  },
  {
   "cell_type": "code",
   "execution_count": null,
   "metadata": {},
   "outputs": [],
   "source": [
    "last_token_logprobs[0, 0]"
   ]
  },
  {
   "cell_type": "code",
   "execution_count": null,
   "metadata": {},
   "outputs": [],
   "source": []
  },
  {
   "cell_type": "code",
   "execution_count": 111,
   "metadata": {},
   "outputs": [],
   "source": [
    "p_map = {6016: [1, 2]}"
   ]
  },
  {
   "cell_type": "code",
   "execution_count": null,
   "metadata": {},
   "outputs": [],
   "source": [
    "t[..., -2:]"
   ]
  },
  {
   "cell_type": "code",
   "execution_count": null,
   "metadata": {},
   "outputs": [],
   "source": []
  },
  {
   "cell_type": "code",
   "execution_count": null,
   "metadata": {},
   "outputs": [],
   "source": [
    "t[..., -2:]"
   ]
  },
  {
   "cell_type": "code",
   "execution_count": null,
   "metadata": {},
   "outputs": [],
   "source": [
    "torch.tensor([[0], [2, 3]])"
   ]
  },
  {
   "cell_type": "code",
   "execution_count": null,
   "metadata": {},
   "outputs": [],
   "source": [
    "?torch.where"
   ]
  },
  {
   "cell_type": "code",
   "execution_count": 72,
   "metadata": {},
   "outputs": [],
   "source": [
    "other = torch.nn.functional.cross_entropy(shift_logits.permute(0, 2, 1), shift_labels, reduction=\"none\")"
   ]
  },
  {
   "cell_type": "code",
   "execution_count": null,
   "metadata": {},
   "outputs": [],
   "source": [
    "other"
   ]
  },
  {
   "cell_type": "code",
   "execution_count": null,
   "metadata": {},
   "outputs": [],
   "source": []
  },
  {
   "cell_type": "code",
   "execution_count": null,
   "metadata": {},
   "outputs": [],
   "source": []
  },
  {
   "cell_type": "code",
   "execution_count": 2,
   "metadata": {},
   "outputs": [],
   "source": [
    "import numpy as np"
   ]
  },
  {
   "cell_type": "code",
   "execution_count": 6,
   "metadata": {},
   "outputs": [],
   "source": [
    "a = [np.pad([1, 2, 3], (2, 0), constant_values=0), np.pad([1, 2, 3], (2, 0), constant_values=0)]"
   ]
  },
  {
   "cell_type": "code",
   "execution_count": null,
   "metadata": {},
   "outputs": [],
   "source": [
    "np.vstack(a).shape"
   ]
  },
  {
   "cell_type": "code",
   "execution_count": 14,
   "metadata": {},
   "outputs": [],
   "source": []
  },
  {
   "cell_type": "code",
   "execution_count": 15,
   "metadata": {},
   "outputs": [],
   "source": [
    "a = pl.read_parquet(\"/home/pl487/rdd/outputs/model_eval/2024-09-11T11-06-11/pythia-9M-bpe32000.parquet\")\n",
    "b = pl.read_parquet(\"/home/pl487/rdd/outputs/model_eval/2024-09-11T11-31-36/pythia-9M-bpe32000.parquet\")"
   ]
  },
  {
   "cell_type": "code",
   "execution_count": null,
   "metadata": {},
   "outputs": [],
   "source": [
    "a.join(b, on=[\"uid\", \"new_token_id\"])"
   ]
  },
  {
   "cell_type": "code",
   "execution_count": null,
   "metadata": {},
   "outputs": [],
   "source": [
    "b"
   ]
  },
  {
   "cell_type": "code",
   "execution_count": null,
   "metadata": {},
   "outputs": [],
   "source": []
  },
  {
   "cell_type": "code",
   "execution_count": null,
   "metadata": {},
   "outputs": [],
   "source": []
  },
  {
   "cell_type": "code",
   "execution_count": null,
   "metadata": {},
   "outputs": [],
   "source": []
  },
  {
   "cell_type": "code",
   "execution_count": 3,
   "metadata": {},
   "outputs": [],
   "source": [
    "import srsly\n",
    "from datasets import load_dataset\n",
    "from transformers import PreTrainedTokenizerFast\n",
    "\n",
    "from tokenizers import Tokenizer\n",
    "from tokenizers.decoders import ByteLevel as ByteLevelDecoder\n",
    "from tokenizers.models import BPE\n",
    "from tokenizers.pre_tokenizers import ByteLevel\n",
    "from tokenizers.processors import ByteLevel as ByteLevelProcessor\n",
    "from tokenizers.trainers import BpeTrainer"
   ]
  },
  {
   "cell_type": "code",
   "execution_count": 3,
   "metadata": {},
   "outputs": [],
   "source": [
    "eos_token = \"|endoftext|\"\n",
    "\n",
    "# Define the trainer\n",
    "trainer = BpeTrainer(vocab_size=2000, min_frequency=2, special_tokens=[eos_token], show_progress=True)\n",
    "\n",
    "# Define the tokenizer\n",
    "tokenizer = Tokenizer(BPE())\n",
    "\n",
    "# Set up the tokenizer components\n",
    "tokenizer.pre_tokenizer = ByteLevel(add_prefix_space=False, trim_offsets=True, use_regex=True)\n",
    "tokenizer.post_processor = ByteLevelProcessor()\n",
    "tokenizer.decoder = ByteLevelDecoder()"
   ]
  },
  {
   "cell_type": "code",
   "execution_count": 4,
   "metadata": {},
   "outputs": [],
   "source": [
    "with open(\"tokenizers/modified_bpe/data/test_small.txt\") as fl:\n",
    "    lines = fl.readlines()"
   ]
  },
  {
   "cell_type": "code",
   "execution_count": null,
   "metadata": {},
   "outputs": [],
   "source": [
    "num_docs = 10_000\n",
    "batch_size = 1_000\n",
    "\n",
    "dataset = load_dataset(\n",
    "    \"HuggingFaceFW/fineweb-edu\", \"sample-10BT\", split=\"train\", streaming=True, cache_dir=\".data_cache\"\n",
    ")\n",
    "dataset = dataset.take(num_docs).select_columns([\"text\"]).batch(batch_size=batch_size)"
   ]
  },
  {
   "cell_type": "code",
   "execution_count": null,
   "metadata": {},
   "outputs": [],
   "source": [
    "tokenizer.train_from_iterator(iter(x[\"text\"] for x in dataset), trainer, int(num_docs / batch_size))"
   ]
  },
  {
   "cell_type": "code",
   "execution_count": 2,
   "metadata": {},
   "outputs": [],
   "source": [
    "from pathlib import Path"
   ]
  },
  {
   "cell_type": "code",
   "execution_count": null,
   "metadata": {},
   "outputs": [],
   "source": []
  },
  {
   "cell_type": "code",
   "execution_count": null,
   "metadata": {},
   "outputs": [],
   "source": []
  },
  {
   "cell_type": "code",
   "execution_count": null,
   "metadata": {},
   "outputs": [],
   "source": []
  },
  {
   "cell_type": "code",
   "execution_count": 42,
   "metadata": {},
   "outputs": [],
   "source": [
    "import json\n",
    "\n",
    "from tokenizers import Tokenizer"
   ]
  },
  {
   "cell_type": "code",
   "execution_count": 44,
   "metadata": {},
   "outputs": [],
   "source": [
    "def load_tokenizer_with_vocab_size(path: str | Path, vocab_size: int) -> PreTrainedTokenizerFast:\n",
    "    path = Path(path)\n",
    "\n",
    "    # Edit conf to adapt to the new vocab_size\n",
    "    conf = srsly.read_json(path / \"tokenizer.json\")\n",
    "    len_alphabet = len(conf[\"model\"][\"vocab\"]) - len(conf[\"model\"][\"merges\"])\n",
    "    conf[\"model\"][\"vocab\"] = dict(list(conf[\"model\"][\"vocab\"].items())[:vocab_size])\n",
    "    conf[\"model\"][\"merges\"] = conf[\"model\"][\"merges\"][: vocab_size - len_alphabet]\n",
    "\n",
    "    # Instantiate tokenizer using tokenizers library\n",
    "    backend_tok = Tokenizer.from_str(json.dumps(conf))\n",
    "    eos_token = srsly.read_yaml(path / \"metadata.yaml\")[\"eos_token\"]\n",
    "\n",
    "    # Instantiate PreTrainedTokenizerFast from object\n",
    "    # NOTE: we do not instantiate from file directly due to compatibility\n",
    "    # https://github.com/huggingface/tokenizers/issues/1562#issuecomment-2315349846\n",
    "    tok = PreTrainedTokenizerFast(tokenizer_object=backend_tok)\n",
    "    tok.padding_side = \"left\"\n",
    "    tok.eos_token = eos_token\n",
    "\n",
    "    return tok"
   ]
  },
  {
   "cell_type": "code",
   "execution_count": 45,
   "metadata": {},
   "outputs": [],
   "source": [
    "path = Path(\"outputs/tokenizers/2024-08-28T16-34-11\")\n",
    "vocab_size = 500\n",
    "\n",
    "tok = load_tokenizer_with_vocab_size(path, vocab_size)"
   ]
  },
  {
   "cell_type": "code",
   "execution_count": null,
   "metadata": {},
   "outputs": [],
   "source": [
    "tok.save_pretrained(path / f\"tok-vocab{vocab_size}\")"
   ]
  },
  {
   "cell_type": "code",
   "execution_count": 34,
   "metadata": {},
   "outputs": [],
   "source": [
    "vocab_size = 500\n",
    "\n",
    "# edit conf to adapt to the new vocab_size\n",
    "conf = srsly.read_json(path / \"tokenizer.json\")\n",
    "# conf[\"padding\"] = \"left\"\n",
    "len_alphabet = len(conf[\"model\"][\"vocab\"]) - len(conf[\"model\"][\"merges\"])\n",
    "\n",
    "conf[\"model\"][\"vocab\"] = dict(list(conf[\"model\"][\"vocab\"].items())[:vocab_size])\n",
    "conf[\"model\"][\"merges\"] = conf[\"model\"][\"merges\"][: vocab_size - len_alphabet]"
   ]
  },
  {
   "cell_type": "code",
   "execution_count": 39,
   "metadata": {},
   "outputs": [],
   "source": [
    "t = Tokenizer.from_str(json.dumps(conf))"
   ]
  },
  {
   "cell_type": "code",
   "execution_count": null,
   "metadata": {},
   "outputs": [],
   "source": [
    "conf[\"model\"].keys()"
   ]
  },
  {
   "cell_type": "code",
   "execution_count": null,
   "metadata": {},
   "outputs": [],
   "source": [
    "t.get_vocab_size()"
   ]
  },
  {
   "cell_type": "markdown",
   "metadata": {},
   "source": [
    "----"
   ]
  },
  {
   "cell_type": "code",
   "execution_count": null,
   "metadata": {},
   "outputs": [],
   "source": []
  }
 ],
 "metadata": {
  "kernelspec": {
   "display_name": "curvature",
   "language": "python",
   "name": "python3"
  },
  "language_info": {
   "codemirror_mode": {
    "name": "ipython",
    "version": 3
   },
   "file_extension": ".py",
   "mimetype": "text/x-python",
   "name": "python",
   "nbconvert_exporter": "python",
   "pygments_lexer": "ipython3",
   "version": "3.10.12"
  }
 },
 "nbformat": 4,
 "nbformat_minor": 2
}
