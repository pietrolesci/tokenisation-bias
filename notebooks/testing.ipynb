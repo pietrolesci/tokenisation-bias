{
 "cells": [
  {
   "cell_type": "code",
   "execution_count": 3,
   "metadata": {},
   "outputs": [],
   "source": [
    "import srsly\n",
    "from datasets import load_dataset\n",
    "from transformers import PreTrainedTokenizerFast\n",
    "\n",
    "from tokenizers import Tokenizer\n",
    "from tokenizers.decoders import ByteLevel as ByteLevelDecoder\n",
    "from tokenizers.models import BPE\n",
    "from tokenizers.pre_tokenizers import ByteLevel\n",
    "from tokenizers.processors import ByteLevel as ByteLevelProcessor\n",
    "from tokenizers.trainers import BpeTrainer\n"
   ]
  },
  {
   "cell_type": "code",
   "execution_count": 3,
   "metadata": {},
   "outputs": [],
   "source": [
    "eos_token = \"|endoftext|\"\n",
    "\n",
    "# Define the trainer\n",
    "trainer = BpeTrainer(\n",
    "    vocab_size=2000,\n",
    "    min_frequency=2,\n",
    "    special_tokens=[eos_token],\n",
    "    show_progress=True,\n",
    ")\n",
    "\n",
    "# Define the tokenizer\n",
    "tokenizer = Tokenizer(BPE())\n",
    "\n",
    "# Set up the tokenizer components\n",
    "tokenizer.pre_tokenizer = ByteLevel(add_prefix_space=False, trim_offsets=True, use_regex=True)\n",
    "tokenizer.post_processor = ByteLevelProcessor()\n",
    "tokenizer.decoder = ByteLevelDecoder()"
   ]
  },
  {
   "cell_type": "code",
   "execution_count": 4,
   "metadata": {},
   "outputs": [],
   "source": [
    "with open(\"tokenizers/modified_bpe/data/test_small.txt\") as fl:\n",
    "    lines = fl.readlines()"
   ]
  },
  {
   "cell_type": "code",
   "execution_count": 10,
   "metadata": {},
   "outputs": [
    {
     "data": {
      "application/vnd.jupyter.widget-view+json": {
       "model_id": "0710045bea23444e94840a517c986852",
       "version_major": 2,
       "version_minor": 0
      },
      "text/plain": [
       "Resolving data files:   0%|          | 0/1630 [00:00<?, ?it/s]"
      ]
     },
     "metadata": {},
     "output_type": "display_data"
    }
   ],
   "source": [
    "num_docs = 10_000\n",
    "batch_size = 1_000\n",
    "\n",
    "dataset = load_dataset(\"HuggingFaceFW/fineweb-edu\", \"sample-10BT\", split=\"train\", streaming=True, cache_dir=\".data_cache\")\n",
    "dataset = dataset.take(num_docs).select_columns([\"text\"]).batch(batch_size=batch_size)"
   ]
  },
  {
   "cell_type": "code",
   "execution_count": 12,
   "metadata": {},
   "outputs": [
    {
     "name": "stdout",
     "output_type": "stream",
     "text": [
      "\n",
      "\n",
      "\n"
     ]
    }
   ],
   "source": [
    "tokenizer.train_from_iterator(iter(x[\"text\"] for x in dataset), trainer, int(num_docs / batch_size))"
   ]
  },
  {
   "cell_type": "code",
   "execution_count": 2,
   "metadata": {},
   "outputs": [],
   "source": [
    "import srsly\n",
    "import polars as pl\n",
    "from pathlib import Path"
   ]
  },
  {
   "cell_type": "code",
   "execution_count": null,
   "metadata": {},
   "outputs": [],
   "source": []
  },
  {
   "cell_type": "code",
   "execution_count": null,
   "metadata": {},
   "outputs": [],
   "source": []
  },
  {
   "cell_type": "code",
   "execution_count": null,
   "metadata": {},
   "outputs": [],
   "source": []
  },
  {
   "cell_type": "code",
   "execution_count": 42,
   "metadata": {},
   "outputs": [],
   "source": [
    "from tokenizers import Tokenizer\n",
    "from pathlib import Path\n",
    "from transformers import PreTrainedTokenizerFast\n",
    "import json"
   ]
  },
  {
   "cell_type": "code",
   "execution_count": 44,
   "metadata": {},
   "outputs": [],
   "source": [
    "def load_tokenizer_with_vocab_size(path: str | Path, vocab_size: int) -> PreTrainedTokenizerFast:\n",
    "    path = Path(path)\n",
    "\n",
    "    # Edit conf to adapt to the new vocab_size\n",
    "    conf = srsly.read_json(path / \"tokenizer.json\")\n",
    "    len_alphabet = len(conf[\"model\"][\"vocab\"]) - len(conf[\"model\"][\"merges\"])\n",
    "    conf[\"model\"][\"vocab\"] = dict(list(conf[\"model\"][\"vocab\"].items())[:vocab_size])\n",
    "    conf[\"model\"][\"merges\"] = conf[\"model\"][\"merges\"][:vocab_size - len_alphabet]\n",
    "    \n",
    "    # Instantiate tokenizer using tokenizers library\n",
    "    backend_tok = Tokenizer.from_str(json.dumps(conf))\n",
    "    eos_token = srsly.read_yaml(path / \"metadata.yaml\")[\"eos_token\"]\n",
    "\n",
    "    # Instantiate PreTrainedTokenizerFast from object\n",
    "    # NOTE: we do not instantiate from file directly due to compatibility\n",
    "    # https://github.com/huggingface/tokenizers/issues/1562#issuecomment-2315349846\n",
    "    tok = PreTrainedTokenizerFast(tokenizer_object=backend_tok)\n",
    "    tok.padding_side = \"left\"\n",
    "    tok.eos_token = eos_token\n",
    "\n",
    "    return tok\n"
   ]
  },
  {
   "cell_type": "code",
   "execution_count": 45,
   "metadata": {},
   "outputs": [],
   "source": [
    "path = Path(\"outputs/tokenizers/2024-08-28T16-34-11\")\n",
    "vocab_size = 500\n",
    "\n",
    "tok = load_tokenizer_with_vocab_size(path, vocab_size)"
   ]
  },
  {
   "cell_type": "code",
   "execution_count": 48,
   "metadata": {},
   "outputs": [
    {
     "data": {
      "text/plain": [
       "('outputs/tokenizers/2024-08-28T16-34-11/tok-vocab500/tokenizer_config.json',\n",
       " 'outputs/tokenizers/2024-08-28T16-34-11/tok-vocab500/special_tokens_map.json',\n",
       " 'outputs/tokenizers/2024-08-28T16-34-11/tok-vocab500/tokenizer.json')"
      ]
     },
     "execution_count": 48,
     "metadata": {},
     "output_type": "execute_result"
    }
   ],
   "source": [
    "tok.save_pretrained(path / f\"tok-vocab{vocab_size}\")"
   ]
  },
  {
   "cell_type": "code",
   "execution_count": 34,
   "metadata": {},
   "outputs": [],
   "source": [
    "vocab_size = 500\n",
    "\n",
    "# edit conf to adapt to the new vocab_size\n",
    "conf = srsly.read_json(path / \"tokenizer.json\")\n",
    "# conf[\"padding\"] = \"left\"\n",
    "len_alphabet = len(conf[\"model\"][\"vocab\"]) - len(conf[\"model\"][\"merges\"])\n",
    "\n",
    "conf[\"model\"][\"vocab\"] = dict(list(conf[\"model\"][\"vocab\"].items())[:vocab_size])\n",
    "conf[\"model\"][\"merges\"] = conf[\"model\"][\"merges\"][:vocab_size - len_alphabet]"
   ]
  },
  {
   "cell_type": "code",
   "execution_count": 39,
   "metadata": {},
   "outputs": [],
   "source": [
    "t = Tokenizer.from_str(json.dumps(conf))"
   ]
  },
  {
   "cell_type": "code",
   "execution_count": 38,
   "metadata": {},
   "outputs": [
    {
     "data": {
      "text/plain": [
       "dict_keys(['type', 'dropout', 'unk_token', 'continuing_subword_prefix', 'end_of_word_suffix', 'fuse_unk', 'byte_fallback', 'ignore_merges', 'vocab', 'merges'])"
      ]
     },
     "execution_count": 38,
     "metadata": {},
     "output_type": "execute_result"
    }
   ],
   "source": [
    "conf[\"model\"].keys()"
   ]
  },
  {
   "cell_type": "code",
   "execution_count": 41,
   "metadata": {},
   "outputs": [
    {
     "data": {
      "text/plain": [
       "500"
      ]
     },
     "execution_count": 41,
     "metadata": {},
     "output_type": "execute_result"
    }
   ],
   "source": [
    "t.get_vocab_size()"
   ]
  },
  {
   "cell_type": "markdown",
   "metadata": {},
   "source": [
    "----"
   ]
  },
  {
   "cell_type": "code",
   "execution_count": null,
   "metadata": {},
   "outputs": [],
   "source": []
  }
 ],
 "metadata": {
  "kernelspec": {
   "display_name": "curvature",
   "language": "python",
   "name": "python3"
  },
  "language_info": {
   "codemirror_mode": {
    "name": "ipython",
    "version": 3
   },
   "file_extension": ".py",
   "mimetype": "text/x-python",
   "name": "python",
   "nbconvert_exporter": "python",
   "pygments_lexer": "ipython3",
   "version": "3.10.12"
  }
 },
 "nbformat": 4,
 "nbformat_minor": 2
}
