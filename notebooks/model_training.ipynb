{
 "cells": [
  {
   "cell_type": "code",
   "execution_count": 21,
   "metadata": {},
   "outputs": [],
   "source": [
    "import logging\n",
    "import os\n",
    "from pathlib import Path\n",
    "\n",
    "import colorlog\n",
    "import torch\n",
    "from datatrove.utils.dataset import DatatroveFolderDataset\n",
    "from torch import Tensor\n",
    "from torch.optim import AdamW, Optimizer\n",
    "from torch.optim.lr_scheduler import LRScheduler\n",
    "from transformers import AutoConfig, AutoModelForCausalLM, AutoTokenizer\n",
    "from transformers.trainer import Trainer\n",
    "from transformers.training_args import TrainingArguments\n",
    "from transformers.utils.logging import set_verbosity\n",
    "from torch.utils.data import DataLoader\n",
    "from src.optim import get_wsd_scheduler\n",
    "from src.utilities import get_logger"
   ]
  },
  {
   "cell_type": "code",
   "execution_count": 3,
   "metadata": {},
   "outputs": [],
   "source": [
    "# Configure the logger and configure colorlog\n",
    "logger = get_logger(\"training\", \"info\")"
   ]
  },
  {
   "cell_type": "code",
   "execution_count": 4,
   "metadata": {},
   "outputs": [
    {
     "name": "stderr",
     "output_type": "stream",
     "text": [
      "/home/pl487/rdd/.venv/lib/python3.10/site-packages/transformers/tokenization_utils_base.py:1602: FutureWarning: `clean_up_tokenization_spaces` was not set. It will be set to `True` by default. This behavior will be deprecated in transformers v4.45, and will be then set to `False` by default. For more details check this issue: https://github.com/huggingface/transformers/issues/31884\n",
      "  warnings.warn(\n"
     ]
    }
   ],
   "source": [
    "tok_path = Path(\"/home/pl487/rdd/outputs/tokenizers/2024-08-28T16-34-11/tok-vocab32000\")\n",
    "tok = AutoTokenizer.from_pretrained(str(tok_path))"
   ]
  },
  {
   "cell_type": "code",
   "execution_count": 14,
   "metadata": {},
   "outputs": [
    {
     "name": "stderr",
     "output_type": "stream",
     "text": [
      "[\u001b[36m2024-08-29 17:24:38,811\u001b[0m][\u001b[34mtraining\u001b[0m][\u001b[32mINFO\u001b[0m] - Memory footprint: 70.54 MB\u001b[0m\n",
      "[\u001b[36m2024-08-29 17:24:38,813\u001b[0m][\u001b[34mtraining\u001b[0m][\u001b[32mINFO\u001b[0m] - Num parameters: 35.3M\u001b[0m\n"
     ]
    }
   ],
   "source": [
    "architecure_id = \"HuggingFaceTB/SmolLM-135M\"\n",
    "config = AutoConfig.from_pretrained(architecure_id)\n",
    "config.vocab_size = tok.vocab_size\n",
    "config.eos_token_id = tok.eos_token_id\n",
    "config.hidden_size = 128 * 4\n",
    "config.intermediate_size = config.hidden_size * 2\n",
    "config.max_position_embeddings = 128 * 4\n",
    "config.num_attention_heads = 8\n",
    "config.num_key_value_heads = config.num_attention_heads // 2\n",
    "config.num_hidden_layers = 8\n",
    "\n",
    "hub_model_id = f\"smollm-135m-vocab{tok.vocab_size}\"\n",
    "\n",
    "model = AutoModelForCausalLM.from_config(\n",
    "    config, \n",
    "    torch_dtype=torch.bfloat16,\n",
    "    attn_implementation=\"flash_attention_2\",\n",
    ")\n",
    "\n",
    "# model.push_to_hub(hub_model_id, revision=\"step0\")\n",
    "\n",
    "logger.info(f\"Memory footprint: {model.get_memory_footprint() / 1e6:.2f} MB\")\n",
    "logger.info(f\"Num parameters: {model.num_parameters() / 1e6:.1f}M\")"
   ]
  },
  {
   "cell_type": "code",
   "execution_count": 16,
   "metadata": {},
   "outputs": [
    {
     "name": "stderr",
     "output_type": "stream",
     "text": [
      "/home/pl487/rdd/.venv/lib/python3.10/site-packages/transformers/training_args.py:1539: FutureWarning: `evaluation_strategy` is deprecated and will be removed in version 4.46 of 🤗 Transformers. Use `eval_strategy` instead\n",
      "  warnings.warn(\n"
     ]
    }
   ],
   "source": [
    "training_args = TrainingArguments(\n",
    "    # =======\n",
    "    # logging\n",
    "    # =======\n",
    "    output_dir=f\"training_outputs/{hub_model_id}\",\n",
    "    logging_strategy=\"steps\",\n",
    "    logging_first_step=True,\n",
    "    log_level=\"passive\", # takes it from global\n",
    "    include_num_input_tokens_seen=True,\n",
    "    report_to=\"tensorboard\",\n",
    "    hub_model_id=hub_model_id,\n",
    "    hub_strategy=\"all_checkpoints\",\n",
    "    hub_private_repo=True,\n",
    "    # =====\n",
    "    # setup\n",
    "    # =====\n",
    "    evaluation_strategy=\"no\",\n",
    "    seed=42,\n",
    "    bf16=True,\n",
    "    bf16_full_eval=True,\n",
    "    tf32=True,\n",
    "    torch_compile=True,\n",
    "    # =============\n",
    "    # checkpointing\n",
    "    # =============\n",
    "    save_strategy=\"steps\",\n",
    "    save_steps=50,\n",
    "    save_safetensors=True,\n",
    "    push_to_hub=True,\n",
    "    # ============\n",
    "    # optimisation\n",
    "    # ============\n",
    "    per_device_train_batch_size=16,\n",
    "    gradient_accumulation_steps=1,\n",
    "    optim=\"adamw_torch\",\n",
    "    learning_rate=2e-5,\n",
    "    weight_decay=0.1,\n",
    "    adam_beta1=0.9,\n",
    "    adam_beta2=0.95,\n",
    "    adam_epsilon=1e-8,\n",
    "    max_grad_norm=1.0,\n",
    "    # lr_scheduler_type=None,\n",
    "    lr_scheduler_kwargs=dict(\n",
    "        final_lr_factor=0.0,\n",
    "        init_div_factor=100,\n",
    "        frac_decay=0.1,\n",
    "        decay_type=\"sqrt\",\n",
    "    ),  # use to pass \n",
    "    warmup_steps=2_000,\n",
    "    num_train_epochs=1,\n",
    "    max_steps=100,\n",
    "    # ===========\n",
    "    # dataloading\n",
    "    # ===========\n",
    "    # dataloader_num_workers=os.cpu_count() - 1,\n",
    "    # dataloader_pin_memory=True,\n",
    ")"
   ]
  },
  {
   "cell_type": "code",
   "execution_count": 27,
   "metadata": {},
   "outputs": [],
   "source": [
    "class LMTrainer(Trainer):\n",
    "    \n",
    "    def create_optimizer(self) -> Optimizer:\n",
    "        # need to set self.optimizer\n",
    "        \n",
    "        # Get params that require grad\n",
    "        param_dict = {pn: p for pn, p in self.named_parameters() if p.requires_grad}\n",
    "        \n",
    "        # Create optim groups. Any parameters that is 2D will be weight decayed, otherwise no.\n",
    "        # i.e. all weight tensors in matmuls + embeddings decay, all biases and layernorms don't.\n",
    "        decay_params = [p for n, p in param_dict.items() if p.dim() >= 2]\n",
    "        nodecay_params = [p for n, p in param_dict.items() if p.dim() < 2]\n",
    "        optim_groups = [\n",
    "            {'params': decay_params, 'weight_decay': self.args.weight_decay},\n",
    "            {'params': nodecay_params, 'weight_decay': 0.0}\n",
    "        ]\n",
    "        num_decay_params = sum(p.numel() for p in decay_params)\n",
    "        num_nodecay_params = sum(p.numel() for p in nodecay_params)\n",
    "        \n",
    "        logger.info(f\"num decayed parameter tensors: {len(decay_params)}, with {num_decay_params:,} parameters\")\n",
    "        logger.info(f\"num non-decayed parameter tensors: {len(nodecay_params)}, with {num_nodecay_params:,} parameters\")\n",
    "        \n",
    "        # Create AdamW optimizer and use the fused version\n",
    "        self.optimizer = AdamW(\n",
    "            optim_groups, \n",
    "            lr=self.args.learning_rate, \n",
    "            betas=(self.args.adam_beta1, self.args.adam_beta2), \n",
    "            eps=self.args.adam_epsilon, \n",
    "            fused=True,\n",
    "        )\n",
    "        \n",
    "        return self.optimizer\n",
    "    \n",
    "    def create_scheduler(self, num_training_steps: int, optimizer: Optimizer = None) -> LRScheduler:\n",
    "        if self.args.lr_scheduler_type is None:\n",
    "            return get_wsd_scheduler(\n",
    "                optimizer=self.optimizer if optimizer is None else optimizer,\n",
    "                num_warmup_steps=self.args.warmup_steps,\n",
    "                num_training_steps=num_training_steps,\n",
    "                **self.args.lr_scheduler_kwargs,\n",
    "            )\n",
    "        \n",
    "        return super().create_scheduler(num_training_steps, optimizer)\n",
    "\n",
    "    def get_train_dataloader(self) -> DataLoader:\n",
    "        target_repo = \"hf://datasets/pietrolesci/fineweb-edu-10BT\"\n",
    "        ds = DatatroveFolderDataset(\n",
    "            folder_path=f\"{target_repo}/{tok_path.name}\", \n",
    "            seq_len=config.max_position_embeddings, \n",
    "            shuffle=True,\n",
    "            seed=42,\n",
    "            token_size=2 if config.vocab_size < 65_000 else 4,\n",
    "        )\n",
    "\n",
    "        dataloader_params = {\n",
    "            \"batch_size\": self._train_batch_size,\n",
    "            \"collate_fn\": self.data_collator,\n",
    "            \"num_workers\": self.args.dataloader_num_workers,\n",
    "            \"pin_memory\": self.args.dataloader_pin_memory,\n",
    "            \"persistent_workers\": self.args.dataloader_persistent_workers,\n",
    "        }\n",
    "\n",
    "        return self.accelerator.prepare(DataLoader(ds, **dataloader_params))\n",
    "    \n",
    "    def compute_loss(self, model, inputs, return_outputs=False) -> Tensor:\n",
    "        input_ids = batch[\"input_ids\"]\n",
    "        labels = input_ids.clone()\n",
    "        outputs = model(input_ids=input_ids, labels=labels)\n",
    "        return outputs.loss\n",
    "                \n",
    "\n",
    "    "
   ]
  },
  {
   "cell_type": "code",
   "execution_count": 25,
   "metadata": {},
   "outputs": [],
   "source": [
    "target_repo = \"hf://datasets/pietrolesci/fineweb-edu-10BT\"\n",
    "ds = DatatroveFolderDataset(\n",
    "    folder_path=f\"{target_repo}/{tok_path.name}\", \n",
    "    seq_len=config.max_position_embeddings, \n",
    "    shuffle=True,\n",
    "    seed=42,\n",
    "    token_size=2 if config.vocab_size < 65_000 else 4,\n",
    ")"
   ]
  },
  {
   "cell_type": "code",
   "execution_count": 26,
   "metadata": {},
   "outputs": [
    {
     "data": {
      "text/plain": [
       "torch.Size([257])"
      ]
     },
     "execution_count": 26,
     "metadata": {},
     "output_type": "execute_result"
    }
   ],
   "source": [
    "next(iter(ds))[\"input_ids\"]"
   ]
  },
  {
   "cell_type": "code",
   "execution_count": null,
   "metadata": {},
   "outputs": [],
   "source": [
    "batch = next(iter(ds))[\"input_ids\"].to(\"cuda\")\n",
    "model = model.to(\"cuda\")"
   ]
  },
  {
   "cell_type": "code",
   "execution_count": null,
   "metadata": {},
   "outputs": [],
   "source": [
    "model.forward(input_ids=batch.unsqueeze(-1)).logits.shape"
   ]
  },
  {
   "cell_type": "code",
   "execution_count": 28,
   "metadata": {},
   "outputs": [
    {
     "name": "stderr",
     "output_type": "stream",
     "text": [
      "max_steps is given, it will override any value given in num_train_epochs\n"
     ]
    }
   ],
   "source": [
    "trainer = Trainer(model, args=training_args)"
   ]
  },
  {
   "cell_type": "code",
   "execution_count": 29,
   "metadata": {},
   "outputs": [
    {
     "ename": "ValueError",
     "evalue": "Trainer: training requires a train_dataset.",
     "output_type": "error",
     "traceback": [
      "\u001b[0;31m---------------------------------------------------------------------------\u001b[0m",
      "\u001b[0;31mValueError\u001b[0m                                Traceback (most recent call last)",
      "Cell \u001b[0;32mIn[29], line 1\u001b[0m\n\u001b[0;32m----> 1\u001b[0m \u001b[43mtrainer\u001b[49m\u001b[38;5;241;43m.\u001b[39;49m\u001b[43mtrain\u001b[49m\u001b[43m(\u001b[49m\u001b[43m)\u001b[49m\n",
      "File \u001b[0;32m~/rdd/.venv/lib/python3.10/site-packages/transformers/trainer.py:1982\u001b[0m, in \u001b[0;36mTrainer.train\u001b[0;34m(self, resume_from_checkpoint, trial, ignore_keys_for_eval, **kwargs)\u001b[0m\n\u001b[1;32m   1979\u001b[0m \u001b[38;5;28;01mtry\u001b[39;00m:\n\u001b[1;32m   1980\u001b[0m     \u001b[38;5;66;03m# Disable progress bars when uploading models during checkpoints to avoid polluting stdout\u001b[39;00m\n\u001b[1;32m   1981\u001b[0m     hf_hub_utils\u001b[38;5;241m.\u001b[39mdisable_progress_bars()\n\u001b[0;32m-> 1982\u001b[0m     \u001b[38;5;28;01mreturn\u001b[39;00m \u001b[43minner_training_loop\u001b[49m\u001b[43m(\u001b[49m\n\u001b[1;32m   1983\u001b[0m \u001b[43m        \u001b[49m\u001b[43margs\u001b[49m\u001b[38;5;241;43m=\u001b[39;49m\u001b[43margs\u001b[49m\u001b[43m,\u001b[49m\n\u001b[1;32m   1984\u001b[0m \u001b[43m        \u001b[49m\u001b[43mresume_from_checkpoint\u001b[49m\u001b[38;5;241;43m=\u001b[39;49m\u001b[43mresume_from_checkpoint\u001b[49m\u001b[43m,\u001b[49m\n\u001b[1;32m   1985\u001b[0m \u001b[43m        \u001b[49m\u001b[43mtrial\u001b[49m\u001b[38;5;241;43m=\u001b[39;49m\u001b[43mtrial\u001b[49m\u001b[43m,\u001b[49m\n\u001b[1;32m   1986\u001b[0m \u001b[43m        \u001b[49m\u001b[43mignore_keys_for_eval\u001b[49m\u001b[38;5;241;43m=\u001b[39;49m\u001b[43mignore_keys_for_eval\u001b[49m\u001b[43m,\u001b[49m\n\u001b[1;32m   1987\u001b[0m \u001b[43m    \u001b[49m\u001b[43m)\u001b[49m\n\u001b[1;32m   1988\u001b[0m \u001b[38;5;28;01mfinally\u001b[39;00m:\n\u001b[1;32m   1989\u001b[0m     hf_hub_utils\u001b[38;5;241m.\u001b[39menable_progress_bars()\n",
      "File \u001b[0;32m~/rdd/.venv/lib/python3.10/site-packages/transformers/trainer.py:2020\u001b[0m, in \u001b[0;36mTrainer._inner_training_loop\u001b[0;34m(self, batch_size, args, resume_from_checkpoint, trial, ignore_keys_for_eval)\u001b[0m\n\u001b[1;32m   2018\u001b[0m logger\u001b[38;5;241m.\u001b[39mdebug(\u001b[38;5;124mf\u001b[39m\u001b[38;5;124m\"\u001b[39m\u001b[38;5;124mCurrently training with a batch size of: \u001b[39m\u001b[38;5;132;01m{\u001b[39;00m\u001b[38;5;28mself\u001b[39m\u001b[38;5;241m.\u001b[39m_train_batch_size\u001b[38;5;132;01m}\u001b[39;00m\u001b[38;5;124m\"\u001b[39m)\n\u001b[1;32m   2019\u001b[0m \u001b[38;5;66;03m# Data loader and number of training steps\u001b[39;00m\n\u001b[0;32m-> 2020\u001b[0m train_dataloader \u001b[38;5;241m=\u001b[39m \u001b[38;5;28;43mself\u001b[39;49m\u001b[38;5;241;43m.\u001b[39;49m\u001b[43mget_train_dataloader\u001b[49m\u001b[43m(\u001b[49m\u001b[43m)\u001b[49m\n\u001b[1;32m   2021\u001b[0m \u001b[38;5;28;01mif\u001b[39;00m \u001b[38;5;28mself\u001b[39m\u001b[38;5;241m.\u001b[39mis_fsdp_xla_v2_enabled:\n\u001b[1;32m   2022\u001b[0m     train_dataloader \u001b[38;5;241m=\u001b[39m tpu_spmd_dataloader(train_dataloader)\n",
      "File \u001b[0;32m~/rdd/.venv/lib/python3.10/site-packages/transformers/trainer.py:907\u001b[0m, in \u001b[0;36mTrainer.get_train_dataloader\u001b[0;34m(self)\u001b[0m\n\u001b[1;32m    898\u001b[0m \u001b[38;5;250m\u001b[39m\u001b[38;5;124;03m\"\"\"\u001b[39;00m\n\u001b[1;32m    899\u001b[0m \u001b[38;5;124;03mReturns the training [`~torch.utils.data.DataLoader`].\u001b[39;00m\n\u001b[1;32m    900\u001b[0m \n\u001b[0;32m   (...)\u001b[0m\n\u001b[1;32m    904\u001b[0m \u001b[38;5;124;03mSubclass and override this method if you want to inject some custom behavior.\u001b[39;00m\n\u001b[1;32m    905\u001b[0m \u001b[38;5;124;03m\"\"\"\u001b[39;00m\n\u001b[1;32m    906\u001b[0m \u001b[38;5;28;01mif\u001b[39;00m \u001b[38;5;28mself\u001b[39m\u001b[38;5;241m.\u001b[39mtrain_dataset \u001b[38;5;129;01mis\u001b[39;00m \u001b[38;5;28;01mNone\u001b[39;00m:\n\u001b[0;32m--> 907\u001b[0m     \u001b[38;5;28;01mraise\u001b[39;00m \u001b[38;5;167;01mValueError\u001b[39;00m(\u001b[38;5;124m\"\u001b[39m\u001b[38;5;124mTrainer: training requires a train_dataset.\u001b[39m\u001b[38;5;124m\"\u001b[39m)\n\u001b[1;32m    909\u001b[0m train_dataset \u001b[38;5;241m=\u001b[39m \u001b[38;5;28mself\u001b[39m\u001b[38;5;241m.\u001b[39mtrain_dataset\n\u001b[1;32m    910\u001b[0m data_collator \u001b[38;5;241m=\u001b[39m \u001b[38;5;28mself\u001b[39m\u001b[38;5;241m.\u001b[39mdata_collator\n",
      "\u001b[0;31mValueError\u001b[0m: Trainer: training requires a train_dataset."
     ]
    }
   ],
   "source": [
    "trainer.train()"
   ]
  },
  {
   "cell_type": "code",
   "execution_count": null,
   "metadata": {},
   "outputs": [],
   "source": []
  }
 ],
 "metadata": {
  "kernelspec": {
   "display_name": ".venv",
   "language": "python",
   "name": "python3"
  },
  "language_info": {
   "codemirror_mode": {
    "name": "ipython",
    "version": 3
   },
   "file_extension": ".py",
   "mimetype": "text/x-python",
   "name": "python",
   "nbconvert_exporter": "python",
   "pygments_lexer": "ipython3",
   "version": "3.10.12"
  }
 },
 "nbformat": 4,
 "nbformat_minor": 2
}
