{
 "cells": [
  {
   "cell_type": "code",
   "execution_count": 1,
   "metadata": {},
   "outputs": [],
   "source": [
    "import os\n",
    "from pathlib import Path\n",
    "\n",
    "import torch\n",
    "from datatrove.utils.dataset import DatatroveFolderDataset\n",
    "from torch import Tensor\n",
    "from torch.optim import AdamW, Optimizer\n",
    "from torch.optim.lr_scheduler import LRScheduler\n",
    "from torch.utils.data import DataLoader\n",
    "from transformers import AutoConfig, AutoModelForCausalLM, AutoTokenizer\n",
    "from transformers.trainer import Trainer\n",
    "from transformers.training_args import TrainingArguments\n",
    "\n",
    "from src.optim import get_wsd_scheduler\n",
    "from src.utilities import get_logger\n"
   ]
  },
  {
   "cell_type": "code",
   "execution_count": 2,
   "metadata": {},
   "outputs": [],
   "source": [
    "# Configure the logger and configure colorlog\n",
    "logger = get_logger(\"training\", \"info\")"
   ]
  },
  {
   "cell_type": "code",
   "execution_count": 5,
   "metadata": {},
   "outputs": [],
   "source": [
    "tok_path = Path(\"/home/pl487/rdd/tokenizer_train/2024-08-30T12-00-43/tok-vocab32000/\")\n",
    "tok = AutoTokenizer.from_pretrained(str(tok_path), clean_up_tokenization_spaces=False)"
   ]
  },
  {
   "cell_type": "code",
   "execution_count": 25,
   "metadata": {},
   "outputs": [
    {
     "data": {
      "text/plain": [
       "{'input_ids': [[67, 24885]], 'token_type_ids': [[0, 0]], 'attention_mask': [[1, 1]]}"
      ]
     },
     "execution_count": 25,
     "metadata": {},
     "output_type": "execute_result"
    }
   ],
   "source": [
    "tok([\"ciao\"])"
   ]
  },
  {
   "cell_type": "code",
   "execution_count": null,
   "metadata": {},
   "outputs": [],
   "source": []
  },
  {
   "cell_type": "code",
   "execution_count": 17,
   "metadata": {},
   "outputs": [],
   "source": [
    "from transformers.models.llama.configuration_llama import LlamaConfig\n",
    "from transformers.models.llama.modeling_llama import LlamaForCausalLM"
   ]
  },
  {
   "cell_type": "code",
   "execution_count": 23,
   "metadata": {},
   "outputs": [
    {
     "name": "stderr",
     "output_type": "stream",
     "text": [
      "[\u001b[36m2024-08-30 15:51:43,292\u001b[0m][\u001b[34mtraining\u001b[0m][\u001b[32mINFO\u001b[0m] - Memory footprint: 68.96 MB\u001b[0m\n",
      "[\u001b[36m2024-08-30 15:51:43,294\u001b[0m][\u001b[34mtraining\u001b[0m][\u001b[32mINFO\u001b[0m] - Num parameters: 34.5M\u001b[0m\n"
     ]
    }
   ],
   "source": [
    "# Adapted from SmolLM\n",
    "# https://huggingface.co/HuggingFaceTB/SmolLM-135M/blob/main/config.json\n",
    "config = LlamaConfig(\n",
    "    attention_bias=False,\n",
    "    attention_dropout=0.0,\n",
    "    bos_token_id=tok.eos_token_id,\n",
    "    eos_token_id=tok.eos_token_id,\n",
    "    hidden_act=\"silu\",\n",
    "    hidden_size=512,\n",
    "    intermediate_size=1024,\n",
    "    initializer_range=0.02,\n",
    "    max_position_embeddings=2048,\n",
    "    mlp_bias=False,\n",
    "    model_type=\"llama\",\n",
    "    num_attention_heads=9,\n",
    "    num_hidden_layers=8,\n",
    "    num_key_value_heads=3,\n",
    "    pretraining_tp=1,\n",
    "    rms_norm_eps=1e-05,\n",
    "    rope_scaling=None,\n",
    "    rope_theta=10000.0,\n",
    "    tie_word_embeddings=True,\n",
    "    torch_dtype=\"bfloat16\",\n",
    "    use_cache=True,\n",
    "    vocab_size=tok.vocab_size,\n",
    ")\n",
    "\n",
    "model = LlamaForCausalLM(config)\n",
    "\n",
    "logger.info(f\"Memory footprint: {model.get_memory_footprint() / 1e6:.2f} MB\")\n",
    "logger.info(f\"Num parameters: {model.num_parameters() / 1e6:.1f}M\")\n"
   ]
  },
  {
   "cell_type": "code",
   "execution_count": 17,
   "metadata": {},
   "outputs": [
    {
     "data": {
      "text/plain": [
       "torch.Size([16, 516, 32000])"
      ]
     },
     "execution_count": 17,
     "metadata": {},
     "output_type": "execute_result"
    }
   ],
   "source": [
    "model = model.to(\"cuda\")\n",
    "model.forward(torch.randint(0, 10000, size=(16, 516), device=\"cuda\")).logits.shape"
   ]
  },
  {
   "cell_type": "code",
   "execution_count": 18,
   "metadata": {},
   "outputs": [],
   "source": [
    "# too many arguments, use the set methods to make things clearer\n",
    "training_args = TrainingArguments(\n",
    "    # =======\n",
    "    # logging\n",
    "    # =======\n",
    "    output_dir=f\"training_outputs/{hub_model_id}\",\n",
    "    logging_strategy=\"steps\",\n",
    "    logging_first_step=True,\n",
    "    log_level=\"passive\", # takes it from global\n",
    "    logging_steps=1,\n",
    "    report_to=\"tensorboard\",\n",
    "    include_num_input_tokens_seen=True,\n",
    "    # =============\n",
    "    # checkpointing\n",
    "    # =============\n",
    "    save_strategy=\"steps\",\n",
    "    save_steps=50,\n",
    "    save_safetensors=True,\n",
    "    # ===========\n",
    "    # push to hub\n",
    "    # ===========\n",
    "    push_to_hub=True,\n",
    "    hub_model_id=hub_model_id,\n",
    "    hub_strategy=\"all_checkpoints\",\n",
    "    hub_private_repo=True,\n",
    "    # =====\n",
    "    # setup\n",
    "    # =====\n",
    "    eval_strategy=\"no\",\n",
    "    seed=42,\n",
    "    bf16=True,\n",
    "    bf16_full_eval=True,\n",
    "    tf32=True,\n",
    "    torch_compile=False,\n",
    "    # ============\n",
    "    # optimisation\n",
    "    # ============\n",
    "    per_device_train_batch_size=16,\n",
    "    gradient_accumulation_steps=1,\n",
    "    optim=\"adamw_torch\",\n",
    "    learning_rate=2e-5,\n",
    "    weight_decay=0.1,\n",
    "    adam_beta1=0.9,\n",
    "    adam_beta2=0.95,\n",
    "    adam_epsilon=1e-8,\n",
    "    max_grad_norm=1.0,\n",
    "    # lr_scheduler_type=\"wsd\",\n",
    "    lr_scheduler_kwargs=dict(\n",
    "        final_lr_factor=0.0,\n",
    "        init_div_factor=100,\n",
    "        frac_decay=0.2,\n",
    "        decay_type=\"sqrt\",\n",
    "    ),  # use to pass \n",
    "    warmup_steps=2_000,\n",
    "    num_train_epochs=1,\n",
    "    max_steps=100,\n",
    "    # ===========\n",
    "    # dataloading\n",
    "    # ===========\n",
    "    dataloader_num_workers=os.cpu_count() - 1,\n",
    ")"
   ]
  },
  {
   "cell_type": "code",
   "execution_count": 19,
   "metadata": {},
   "outputs": [],
   "source": [
    "class LMTrainer(Trainer):\n",
    "    \n",
    "    def create_optimizer(self) -> Optimizer:\n",
    "        # need to set self.optimizer\n",
    "        \n",
    "        # Get params that require grad\n",
    "        param_dict = {pn: p for pn, p in self.model.named_parameters() if p.requires_grad}\n",
    "        \n",
    "        # Create optim groups. Any parameters that is 2D will be weight decayed, otherwise no.\n",
    "        # i.e. all weight tensors in matmuls + embeddings decay, all biases and layernorms don't.\n",
    "        decay_params = [p for n, p in param_dict.items() if p.dim() >= 2]\n",
    "        nodecay_params = [p for n, p in param_dict.items() if p.dim() < 2]\n",
    "        optim_groups = [\n",
    "            {'params': decay_params, 'weight_decay': self.args.weight_decay},\n",
    "            {'params': nodecay_params, 'weight_decay': 0.0}\n",
    "        ]\n",
    "        num_decay_params = sum(p.numel() for p in decay_params)\n",
    "        num_nodecay_params = sum(p.numel() for p in nodecay_params)\n",
    "        \n",
    "        logger.info(f\"num decayed parameter tensors: {len(decay_params)}, with {num_decay_params:,} parameters\")\n",
    "        logger.info(f\"num non-decayed parameter tensors: {len(nodecay_params)}, with {num_nodecay_params:,} parameters\")\n",
    "        \n",
    "        # Create AdamW optimizer and use the fused version\n",
    "        self.optimizer = AdamW(\n",
    "            optim_groups, \n",
    "            lr=self.args.learning_rate, \n",
    "            betas=(self.args.adam_beta1, self.args.adam_beta2), \n",
    "            eps=self.args.adam_epsilon, \n",
    "            fused=True,\n",
    "        )\n",
    "        \n",
    "        return self.optimizer\n",
    "    \n",
    "    def create_scheduler(self, num_training_steps: int, optimizer: Optimizer = None) -> LRScheduler:\n",
    "        # HACK: to avoid changing too much stuff, just assume that when I pass kwargs\n",
    "        # I mean that I want the wsd scheduler\n",
    "        if self.args.lr_scheduler_kwargs is not None:\n",
    "            return get_wsd_scheduler(\n",
    "                optimizer=self.optimizer if optimizer is None else optimizer,\n",
    "                num_warmup_steps=self.args.warmup_steps,\n",
    "                num_training_steps=num_training_steps,\n",
    "                **self.args.lr_scheduler_kwargs,\n",
    "            )\n",
    "        \n",
    "        return super().create_scheduler(num_training_steps, optimizer)\n",
    "\n",
    "    def get_train_dataloader(self) -> DataLoader:\n",
    "        target_repo = \"hf://datasets/pietrolesci/fineweb-edu-10BT\"\n",
    "        ds = DatatroveFolderDataset(\n",
    "            folder_path=f\"{target_repo}/{tok_path.name}\", \n",
    "            seq_len=config.max_position_embeddings, \n",
    "            shuffle=True,\n",
    "            seed=42,\n",
    "            token_size=2 if config.vocab_size < 65_000 else 4,\n",
    "        )\n",
    "\n",
    "        dataloader_params = {\n",
    "            \"batch_size\": self._train_batch_size,\n",
    "            \"collate_fn\": self.data_collator,\n",
    "            \"num_workers\": self.args.dataloader_num_workers,\n",
    "            \"pin_memory\": True,\n",
    "            \"persistent_workers\": False,\n",
    "            \"shuffle\": False,\n",
    "            \"drop_last\": self.args.dataloader_drop_last,\n",
    "        }\n",
    "\n",
    "        return self.accelerator.prepare(DataLoader(ds, **dataloader_params))\n",
    "    \n",
    "    def compute_loss(self, model, inputs, return_outputs=False) -> Tensor:\n",
    "        input_ids = inputs[\"input_ids\"]\n",
    "        labels = input_ids.clone()\n",
    "        outputs = model(input_ids=input_ids, labels=labels)\n",
    "        return outputs.loss\n",
    "                \n",
    "    # def compute_loss(self, model, inputs, return_outputs=False):\n",
    "    #     labels = inputs.pop(\"labels\")\n",
    "    #     outputs = model(**inputs)\n",
    "    #     logits = outputs.logits\n",
    "    #     shift_logits = logits[..., :-1, :].contiguous()\n",
    "    #     shift_labels = labels[..., 1:].contiguous()\n",
    "    #     loss_fct = nn.CrossEntropyLoss()\n",
    "    #     loss = loss_fct(shift_logits.view(-1, shift_logits.size(-1)), shift_labels.view(-1))\n",
    "    #     return (loss, outputs) if return_outputs else loss\n",
    "\n",
    "    "
   ]
  },
  {
   "cell_type": "code",
   "execution_count": 20,
   "metadata": {},
   "outputs": [
    {
     "name": "stderr",
     "output_type": "stream",
     "text": [
      "max_steps is given, it will override any value given in num_train_epochs\n"
     ]
    }
   ],
   "source": [
    "trainer = LMTrainer(model, args=training_args)"
   ]
  },
  {
   "cell_type": "code",
   "execution_count": 21,
   "metadata": {},
   "outputs": [],
   "source": [
    "dl = trainer.get_train_dataloader()\n",
    "batch = next(iter(dl))"
   ]
  },
  {
   "cell_type": "code",
   "execution_count": 26,
   "metadata": {},
   "outputs": [
    {
     "data": {
      "text/plain": [
       "tensor(65513, device='cuda:0')"
      ]
     },
     "execution_count": 26,
     "metadata": {},
     "output_type": "execute_result"
    }
   ],
   "source": [
    "batch[\"input_ids\"].max()"
   ]
  },
  {
   "cell_type": "code",
   "execution_count": 23,
   "metadata": {},
   "outputs": [
    {
     "data": {
      "text/plain": [
       "CausalLMOutputWithPast(loss=None, logits=tensor([[[-0.0479, -0.3145, -0.7266,  ..., -0.1289, -0.3750,  0.4805],\n",
       "         [ 0.1235, -0.2061, -0.6328,  ...,  0.0679, -0.3223,  0.4316],\n",
       "         [-0.0593, -0.3906, -0.5352,  ...,  0.0679, -0.1445,  0.2490],\n",
       "         ...,\n",
       "         [-0.1289,  0.3457,  0.0393,  ..., -0.2520, -0.2422,  0.2637],\n",
       "         [-0.3438,  0.6680,  0.2188,  ..., -0.6367, -0.1875,  0.2871],\n",
       "         [-0.3086,  0.6289,  0.0012,  ..., -0.4023, -0.0879,  0.4375]],\n",
       "\n",
       "        [[-0.3027,  0.1934, -0.4766,  ...,  0.3496,  0.1807,  0.0962],\n",
       "         [ 0.1689,  0.0294, -0.4434,  ..., -0.0391,  0.1680,  0.2930],\n",
       "         [ 0.1992, -0.1030, -0.1973,  ..., -0.0830,  0.2490,  0.2070],\n",
       "         ...,\n",
       "         [ 0.2119,  0.0557,  0.0378,  ...,  0.0369,  1.0156,  0.1387],\n",
       "         [-0.1465, -0.0435, -0.2598,  ..., -0.0066,  0.8008,  0.1167],\n",
       "         [-0.0554, -0.1514, -0.0586,  ..., -0.1484,  0.8750,  0.0771]],\n",
       "\n",
       "        [[ 0.0388,  0.3027, -0.2793,  ...,  0.2891, -0.6914,  0.4219],\n",
       "         [ 0.1416,  0.1797, -0.3672,  ..., -0.1689, -0.7656,  0.3477],\n",
       "         [ 0.1807,  0.1128, -0.5117,  ..., -0.2471, -0.8633,  0.4180],\n",
       "         ...,\n",
       "         [ 0.0427,  0.5938,  0.4180,  ..., -0.5820, -0.1611, -0.3398],\n",
       "         [ 0.0864,  0.8789,  0.0192,  ..., -0.5664, -0.1143, -0.4570],\n",
       "         [-0.0177,  0.7422,  0.2734,  ..., -0.6602, -0.0078, -0.3965]],\n",
       "\n",
       "        ...,\n",
       "\n",
       "        [[ 0.7656, -0.1045, -0.2793,  ...,  0.0613,  0.4238, -0.1074],\n",
       "         [ 0.6172, -0.1982, -0.2227,  ...,  0.1719,  0.0977,  0.2461],\n",
       "         [ 0.4141, -0.1108, -0.4141,  ...,  0.1406,  0.1807,  0.3418],\n",
       "         ...,\n",
       "         [ 0.4199, -0.1582, -0.2227,  ..., -0.0077,  0.3984, -0.4668],\n",
       "         [ 0.2324, -0.1787, -0.0066,  ..., -0.0132,  0.2930, -0.6016],\n",
       "         [ 0.4336, -0.1177, -0.5312,  ..., -0.1216,  0.0889, -0.3535]],\n",
       "\n",
       "        [[ 0.6133,  0.2559, -0.5469,  ..., -0.0435,  0.2715, -0.4004],\n",
       "         [ 0.3184,  0.3262, -0.2988,  ..., -0.2412,  0.2656, -0.6055],\n",
       "         [ 0.2520,  0.0085, -0.4922,  ..., -0.2520,  0.2559, -0.5938],\n",
       "         ...,\n",
       "         [ 0.1660,  0.1611,  0.5938,  ..., -0.6641, -0.1328,  0.0104],\n",
       "         [ 0.2676,  0.1328,  0.8789,  ..., -0.5625, -0.3633, -0.0220],\n",
       "         [ 0.4180,  0.1738,  0.8164,  ..., -0.5898, -0.4453, -0.0267]],\n",
       "\n",
       "        [[-0.2461,  0.4961,  0.5586,  ...,  0.9023,  0.2402, -0.3262],\n",
       "         [ 0.0796, -0.0544,  1.0781,  ...,  0.8672, -0.0732, -0.4805],\n",
       "         [ 0.1289,  0.0669,  0.9961,  ...,  0.6250, -0.0923, -0.5977],\n",
       "         ...,\n",
       "         [ 0.1865,  0.1641, -0.3223,  ...,  0.5117,  0.6875,  0.0535],\n",
       "         [ 0.0215,  0.0405, -0.1279,  ...,  0.8086,  0.4883,  0.0099],\n",
       "         [-0.2578,  0.1167, -0.1377,  ...,  0.7031,  0.3711, -0.3242]]],\n",
       "       device='cuda:0', grad_fn=<ToCopyBackward0>), past_key_values=None, hidden_states=None, attentions=None)"
      ]
     },
     "execution_count": 23,
     "metadata": {},
     "output_type": "execute_result"
    }
   ],
   "source": [
    "trainer.model.forward(\n",
    "    torch.randint(0, 10000, size=(16, 516), device=\"cuda\")\n",
    ")"
   ]
  },
  {
   "cell_type": "code",
   "execution_count": null,
   "metadata": {},
   "outputs": [],
   "source": []
  },
  {
   "cell_type": "code",
   "execution_count": null,
   "metadata": {},
   "outputs": [],
   "source": [
    "batch[\"input_ids\"].shape"
   ]
  },
  {
   "cell_type": "code",
   "execution_count": null,
   "metadata": {},
   "outputs": [],
   "source": [
    "model = trainer.accelerator.prepare_model(model)"
   ]
  },
  {
   "cell_type": "code",
   "execution_count": null,
   "metadata": {},
   "outputs": [],
   "source": [
    "model.forward(input_ids=batch[\"input_ids\"])"
   ]
  },
  {
   "cell_type": "code",
   "execution_count": null,
   "metadata": {},
   "outputs": [],
   "source": []
  },
  {
   "cell_type": "code",
   "execution_count": null,
   "metadata": {},
   "outputs": [],
   "source": [
    "trainer.compute_loss(model, batch)"
   ]
  },
  {
   "cell_type": "code",
   "execution_count": null,
   "metadata": {},
   "outputs": [],
   "source": []
  },
  {
   "cell_type": "code",
   "execution_count": null,
   "metadata": {},
   "outputs": [],
   "source": []
  },
  {
   "cell_type": "code",
   "execution_count": null,
   "metadata": {},
   "outputs": [],
   "source": [
    "trainer.train()"
   ]
  }
 ],
 "metadata": {
  "kernelspec": {
   "display_name": ".venv",
   "language": "python",
   "name": "python3"
  },
  "language_info": {
   "codemirror_mode": {
    "name": "ipython",
    "version": 3
   },
   "file_extension": ".py",
   "mimetype": "text/x-python",
   "name": "python",
   "nbconvert_exporter": "python",
   "pygments_lexer": "ipython3",
   "version": "3.10.12"
  }
 },
 "nbformat": 4,
 "nbformat_minor": 2
}
