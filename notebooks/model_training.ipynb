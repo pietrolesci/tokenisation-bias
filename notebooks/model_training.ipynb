{
 "cells": [
  {
   "cell_type": "code",
   "execution_count": null,
   "metadata": {},
   "outputs": [],
   "source": [
    "import os\n",
    "from pathlib import Path\n",
    "\n",
    "import torch\n",
    "from datatrove.utils.dataset import DatatroveFolderDataset\n",
    "from torch import Tensor\n",
    "from torch.optim import AdamW, Optimizer\n",
    "from torch.optim.lr_scheduler import LRScheduler\n",
    "from torch.utils.data import DataLoader\n",
    "from transformers import AutoConfig, AutoModelForCausalLM, AutoTokenizer\n",
    "from transformers.trainer import Trainer\n",
    "from transformers.training_args import TrainingArguments\n",
    "\n",
    "from src.optim import get_wsd_scheduler\n",
    "from src.utilities import get_logger\n"
   ]
  },
  {
   "cell_type": "code",
   "execution_count": null,
   "metadata": {},
   "outputs": [],
   "source": [
    "# Configure the logger and configure colorlog\n",
    "logger = get_logger(\"training\", \"info\")"
   ]
  },
  {
   "cell_type": "code",
   "execution_count": null,
   "metadata": {},
   "outputs": [],
   "source": [
    "tok_path = Path(\"/home/pl487/rdd/tokenizer_train/2024-08-30T12-00-43/tok-vocab32000/\")\n",
    "tok = AutoTokenizer.from_pretrained(str(tok_path), clean_up_tokenization_spaces=False)"
   ]
  },
  {
   "cell_type": "code",
   "execution_count": null,
   "metadata": {},
   "outputs": [],
   "source": [
    "tok([\"ciao\"])"
   ]
  },
  {
   "cell_type": "code",
   "execution_count": null,
   "metadata": {},
   "outputs": [],
   "source": [
    "import requests\n",
    "r = requests.get(\"https://datasets-server.huggingface.co/parquet?dataset=barilan/blog_authorship_corpus\")\n",
    "# j = r.json()\n",
    "# urls = [f['url'] for f in j['parquet_files']]\n",
    "r.json()"
   ]
  },
  {
   "cell_type": "code",
   "execution_count": 1,
   "metadata": {},
   "outputs": [],
   "source": [
    "import huggingface_hub as hf\n"
   ]
  },
  {
   "cell_type": "code",
   "execution_count": 3,
   "metadata": {},
   "outputs": [
    {
     "data": {
      "application/vnd.jupyter.widget-view+json": {
       "model_id": "7b3bbbdb01584dc4abfea8368712688f",
       "version_major": 2,
       "version_minor": 0
      },
      "text/plain": [
       "Fetching 5 files:   0%|          | 0/5 [00:00<?, ?it/s]"
      ]
     },
     "metadata": {},
     "output_type": "display_data"
    },
    {
     "data": {
      "text/plain": [
       "'/home/pl487/rdd/slim-pajama-validation'"
      ]
     },
     "execution_count": 3,
     "metadata": {},
     "output_type": "execute_result"
    }
   ],
   "source": [
    "hf.snapshot_download(\n",
    "    \"cerebras/SlimPajama-627B\",\n",
    "    revision=\"refs/convert/parquet\",\n",
    "    repo_type=\"dataset\",\n",
    "    local_dir=\"slim-pajama-validation\",\n",
    "    allow_patterns=[\"default/partial-validation/*\"],\n",
    ")"
   ]
  },
  {
   "cell_type": "code",
   "execution_count": 4,
   "metadata": {},
   "outputs": [],
   "source": [
    "import polars as pl"
   ]
  },
  {
   "cell_type": "code",
   "execution_count": 27,
   "metadata": {},
   "outputs": [],
   "source": [
    "df = (\n",
    "    pl.scan_parquet(\"/home/pl487/rdd/slim-pajama-validation/*.parquet\")\n",
    "    .head(100)\n",
    "    .collect()\n",
    ")"
   ]
  },
  {
   "cell_type": "code",
   "execution_count": 21,
   "metadata": {},
   "outputs": [
    {
     "data": {
      "text/plain": [
       "[String, Struct({'redpajama_set_name': String})]"
      ]
     },
     "execution_count": 21,
     "metadata": {},
     "output_type": "execute_result"
    }
   ],
   "source": [
    "df.collect_schema().dtypes()"
   ]
  },
  {
   "cell_type": "code",
   "execution_count": 24,
   "metadata": {},
   "outputs": [
    {
     "data": {
      "text/html": [
       "<div><style>\n",
       ".dataframe > thead > tr,\n",
       ".dataframe > tbody > tr {\n",
       "  text-align: right;\n",
       "  white-space: pre-wrap;\n",
       "}\n",
       "</style>\n",
       "<small>shape: (7, 1)</small><table border=\"1\" class=\"dataframe\"><thead><tr><th>redpajama_set_name</th></tr><tr><td>str</td></tr></thead><tbody><tr><td>&quot;RedPajamaWikipedia&quot;</td></tr><tr><td>&quot;RedPajamaBook&quot;</td></tr><tr><td>&quot;RedPajamaArXiv&quot;</td></tr><tr><td>&quot;RedPajamaStackExchange&quot;</td></tr><tr><td>&quot;RedPajamaGithub&quot;</td></tr><tr><td>&quot;RedPajamaCommonCrawl&quot;</td></tr><tr><td>&quot;RedPajamaC4&quot;</td></tr></tbody></table></div>"
      ],
      "text/plain": [
       "shape: (7, 1)\n",
       "┌────────────────────────┐\n",
       "│ redpajama_set_name     │\n",
       "│ ---                    │\n",
       "│ str                    │\n",
       "╞════════════════════════╡\n",
       "│ RedPajamaWikipedia     │\n",
       "│ RedPajamaBook          │\n",
       "│ RedPajamaArXiv         │\n",
       "│ RedPajamaStackExchange │\n",
       "│ RedPajamaGithub        │\n",
       "│ RedPajamaCommonCrawl   │\n",
       "│ RedPajamaC4            │\n",
       "└────────────────────────┘"
      ]
     },
     "execution_count": 24,
     "metadata": {},
     "output_type": "execute_result"
    }
   ],
   "source": [
    "df.select(pl.col(\"meta\").struct.field(\"redpajama_set_name\").unique()).collect()"
   ]
  },
  {
   "cell_type": "code",
   "execution_count": null,
   "metadata": {},
   "outputs": [],
   "source": []
  },
  {
   "cell_type": "code",
   "execution_count": null,
   "metadata": {},
   "outputs": [],
   "source": []
  },
  {
   "cell_type": "code",
   "execution_count": null,
   "metadata": {},
   "outputs": [],
   "source": []
  },
  {
   "cell_type": "code",
   "execution_count": null,
   "metadata": {},
   "outputs": [],
   "source": [
    "from transformers.models.llama.configuration_llama import LlamaConfig\n",
    "from transformers.models.llama.modeling_llama import LlamaForCausalLM"
   ]
  },
  {
   "cell_type": "code",
   "execution_count": null,
   "metadata": {},
   "outputs": [],
   "source": [
    "# Adapted from SmolLM\n",
    "# https://huggingface.co/HuggingFaceTB/SmolLM-135M/blob/main/config.json\n",
    "config = LlamaConfig(\n",
    "    attention_bias=False,\n",
    "    attention_dropout=0.0,\n",
    "    bos_token_id=tok.eos_token_id,\n",
    "    eos_token_id=tok.eos_token_id,\n",
    "    hidden_act=\"silu\",\n",
    "    hidden_size=512,\n",
    "    intermediate_size=1024,\n",
    "    initializer_range=0.02,\n",
    "    max_position_embeddings=2048,\n",
    "    mlp_bias=False,\n",
    "    model_type=\"llama\",\n",
    "    num_attention_heads=9,\n",
    "    num_hidden_layers=8,\n",
    "    num_key_value_heads=3,\n",
    "    pretraining_tp=1,\n",
    "    rms_norm_eps=1e-05,\n",
    "    rope_scaling=None,\n",
    "    rope_theta=10000.0,\n",
    "    tie_word_embeddings=True,\n",
    "    torch_dtype=\"bfloat16\",\n",
    "    use_cache=True,\n",
    "    vocab_size=tok.vocab_size,\n",
    ")\n",
    "\n",
    "model = LlamaForCausalLM(config)\n",
    "# model.push_to_hub\n",
    "logger.info(f\"Memory footprint: {model.get_memory_footprint() / 1e6:.2f} MB\")\n",
    "logger.info(f\"Num parameters: {model.num_parameters() / 1e6:.1f}M\")\n"
   ]
  },
  {
   "cell_type": "code",
   "execution_count": null,
   "metadata": {},
   "outputs": [],
   "source": [
    "model = model.to(\"cuda\")\n",
    "model.forward(torch.randint(0, 10000, size=(16, 516), device=\"cuda\")).logits.shape"
   ]
  },
  {
   "cell_type": "code",
   "execution_count": null,
   "metadata": {},
   "outputs": [],
   "source": [
    "# too many arguments, use the set methods to make things clearer\n",
    "training_args = TrainingArguments(\n",
    "    # =======\n",
    "    # logging\n",
    "    # =======\n",
    "    output_dir=f\"training_outputs/{hub_model_id}\",\n",
    "    logging_strategy=\"steps\",\n",
    "    logging_first_step=True,\n",
    "    log_level=\"passive\", # takes it from global\n",
    "    logging_steps=1,\n",
    "    report_to=\"tensorboard\",\n",
    "    include_num_input_tokens_seen=True,\n",
    "    # =============\n",
    "    # checkpointing\n",
    "    # =============\n",
    "    save_strategy=\"steps\",\n",
    "    save_steps=50,\n",
    "    save_safetensors=True,\n",
    "    # ===========\n",
    "    # push to hub\n",
    "    # ===========\n",
    "    push_to_hub=True,\n",
    "    hub_model_id=hub_model_id,\n",
    "    hub_strategy=\"all_checkpoints\",\n",
    "    hub_private_repo=True,\n",
    "    # =====\n",
    "    # setup\n",
    "    # =====\n",
    "    eval_strategy=\"no\",\n",
    "    seed=42,\n",
    "    bf16=True,\n",
    "    bf16_full_eval=True,\n",
    "    tf32=True,\n",
    "    torch_compile=False,\n",
    "    # ============\n",
    "    # optimisation\n",
    "    # ============\n",
    "    per_device_train_batch_size=16,\n",
    "    gradient_accumulation_steps=1,\n",
    "    optim=\"adamw_torch\",\n",
    "    learning_rate=2e-5,\n",
    "    weight_decay=0.1,\n",
    "    adam_beta1=0.9,\n",
    "    adam_beta2=0.95,\n",
    "    adam_epsilon=1e-8,\n",
    "    max_grad_norm=1.0,\n",
    "    # lr_scheduler_type=\"wsd\",\n",
    "    lr_scheduler_kwargs=dict(\n",
    "        final_lr_factor=0.0,\n",
    "        init_div_factor=100,\n",
    "        frac_decay=0.2,\n",
    "        decay_type=\"sqrt\",\n",
    "    ),  # use to pass \n",
    "    warmup_steps=2_000,\n",
    "    num_train_epochs=1,\n",
    "    max_steps=100,\n",
    "    # ===========\n",
    "    # dataloading\n",
    "    # ===========\n",
    "    dataloader_num_workers=os.cpu_count() - 1,\n",
    ")"
   ]
  },
  {
   "cell_type": "code",
   "execution_count": null,
   "metadata": {},
   "outputs": [],
   "source": [
    "class LMTrainer(Trainer):\n",
    "    \n",
    "    def create_optimizer(self) -> Optimizer:\n",
    "        # need to set self.optimizer\n",
    "        \n",
    "        # Get params that require grad\n",
    "        param_dict = {pn: p for pn, p in self.model.named_parameters() if p.requires_grad}\n",
    "        \n",
    "        # Create optim groups. Any parameters that is 2D will be weight decayed, otherwise no.\n",
    "        # i.e. all weight tensors in matmuls + embeddings decay, all biases and layernorms don't.\n",
    "        decay_params = [p for n, p in param_dict.items() if p.dim() >= 2]\n",
    "        nodecay_params = [p for n, p in param_dict.items() if p.dim() < 2]\n",
    "        optim_groups = [\n",
    "            {'params': decay_params, 'weight_decay': self.args.weight_decay},\n",
    "            {'params': nodecay_params, 'weight_decay': 0.0}\n",
    "        ]\n",
    "        num_decay_params = sum(p.numel() for p in decay_params)\n",
    "        num_nodecay_params = sum(p.numel() for p in nodecay_params)\n",
    "        \n",
    "        logger.info(f\"num decayed parameter tensors: {len(decay_params)}, with {num_decay_params:,} parameters\")\n",
    "        logger.info(f\"num non-decayed parameter tensors: {len(nodecay_params)}, with {num_nodecay_params:,} parameters\")\n",
    "        \n",
    "        # Create AdamW optimizer and use the fused version\n",
    "        self.optimizer = AdamW(\n",
    "            optim_groups, \n",
    "            lr=self.args.learning_rate, \n",
    "            betas=(self.args.adam_beta1, self.args.adam_beta2), \n",
    "            eps=self.args.adam_epsilon, \n",
    "            fused=True,\n",
    "        )\n",
    "        \n",
    "        return self.optimizer\n",
    "    \n",
    "    def create_scheduler(self, num_training_steps: int, optimizer: Optimizer = None) -> LRScheduler:\n",
    "        # HACK: to avoid changing too much stuff, just assume that when I pass kwargs\n",
    "        # I mean that I want the wsd scheduler\n",
    "        if self.args.lr_scheduler_kwargs is not None:\n",
    "            return get_wsd_scheduler(\n",
    "                optimizer=self.optimizer if optimizer is None else optimizer,\n",
    "                num_warmup_steps=self.args.warmup_steps,\n",
    "                num_training_steps=num_training_steps,\n",
    "                **self.args.lr_scheduler_kwargs,\n",
    "            )\n",
    "        \n",
    "        return super().create_scheduler(num_training_steps, optimizer)\n",
    "\n",
    "    def get_train_dataloader(self) -> DataLoader:\n",
    "        target_repo = \"hf://datasets/pietrolesci/fineweb-edu-10BT\"\n",
    "        ds = DatatroveFolderDataset(\n",
    "            folder_path=f\"{target_repo}/{tok_path.name}\", \n",
    "            seq_len=config.max_position_embeddings, \n",
    "            shuffle=True,\n",
    "            seed=42,\n",
    "            token_size=2 if config.vocab_size < 65_000 else 4,\n",
    "        )\n",
    "\n",
    "        dataloader_params = {\n",
    "            \"batch_size\": self._train_batch_size,\n",
    "            \"collate_fn\": self.data_collator,\n",
    "            \"num_workers\": self.args.dataloader_num_workers,\n",
    "            \"pin_memory\": True,\n",
    "            \"persistent_workers\": False,\n",
    "            \"shuffle\": False,\n",
    "            \"drop_last\": self.args.dataloader_drop_last,\n",
    "        }\n",
    "\n",
    "        return self.accelerator.prepare(DataLoader(ds, **dataloader_params))\n",
    "    \n",
    "    def compute_loss(self, model, inputs, return_outputs=False) -> Tensor:\n",
    "        input_ids = inputs[\"input_ids\"]\n",
    "        labels = input_ids.clone()\n",
    "        outputs = model(input_ids=input_ids, labels=labels)\n",
    "        return outputs.loss\n",
    "                \n",
    "    # def compute_loss(self, model, inputs, return_outputs=False):\n",
    "    #     labels = inputs.pop(\"labels\")\n",
    "    #     outputs = model(**inputs)\n",
    "    #     logits = outputs.logits\n",
    "    #     shift_logits = logits[..., :-1, :].contiguous()\n",
    "    #     shift_labels = labels[..., 1:].contiguous()\n",
    "    #     loss_fct = nn.CrossEntropyLoss()\n",
    "    #     loss = loss_fct(shift_logits.view(-1, shift_logits.size(-1)), shift_labels.view(-1))\n",
    "    #     return (loss, outputs) if return_outputs else loss\n",
    "\n",
    "    "
   ]
  },
  {
   "cell_type": "code",
   "execution_count": null,
   "metadata": {},
   "outputs": [],
   "source": [
    "trainer = LMTrainer(model, args=training_args)"
   ]
  },
  {
   "cell_type": "code",
   "execution_count": null,
   "metadata": {},
   "outputs": [],
   "source": [
    "dl = trainer.get_train_dataloader()\n",
    "batch = next(iter(dl))"
   ]
  },
  {
   "cell_type": "code",
   "execution_count": null,
   "metadata": {},
   "outputs": [],
   "source": [
    "batch[\"input_ids\"].max()"
   ]
  },
  {
   "cell_type": "code",
   "execution_count": null,
   "metadata": {},
   "outputs": [],
   "source": [
    "trainer.model.forward(\n",
    "    torch.randint(0, 10000, size=(16, 516), device=\"cuda\")\n",
    ")"
   ]
  },
  {
   "cell_type": "code",
   "execution_count": null,
   "metadata": {},
   "outputs": [],
   "source": []
  },
  {
   "cell_type": "code",
   "execution_count": null,
   "metadata": {},
   "outputs": [],
   "source": [
    "batch[\"input_ids\"].shape"
   ]
  },
  {
   "cell_type": "code",
   "execution_count": null,
   "metadata": {},
   "outputs": [],
   "source": [
    "model = trainer.accelerator.prepare_model(model)"
   ]
  },
  {
   "cell_type": "code",
   "execution_count": null,
   "metadata": {},
   "outputs": [],
   "source": [
    "model.forward(input_ids=batch[\"input_ids\"])"
   ]
  },
  {
   "cell_type": "code",
   "execution_count": null,
   "metadata": {},
   "outputs": [],
   "source": []
  },
  {
   "cell_type": "code",
   "execution_count": null,
   "metadata": {},
   "outputs": [],
   "source": [
    "trainer.compute_loss(model, batch)"
   ]
  },
  {
   "cell_type": "code",
   "execution_count": null,
   "metadata": {},
   "outputs": [],
   "source": []
  },
  {
   "cell_type": "code",
   "execution_count": null,
   "metadata": {},
   "outputs": [],
   "source": []
  },
  {
   "cell_type": "code",
   "execution_count": null,
   "metadata": {},
   "outputs": [],
   "source": [
    "trainer.train()"
   ]
  }
 ],
 "metadata": {
  "kernelspec": {
   "display_name": ".venv",
   "language": "python",
   "name": "python3"
  },
  "language_info": {
   "codemirror_mode": {
    "name": "ipython",
    "version": 3
   },
   "file_extension": ".py",
   "mimetype": "text/x-python",
   "name": "python",
   "nbconvert_exporter": "python",
   "pygments_lexer": "ipython3",
   "version": "3.10.12"
  }
 },
 "nbformat": 4,
 "nbformat_minor": 2
}
