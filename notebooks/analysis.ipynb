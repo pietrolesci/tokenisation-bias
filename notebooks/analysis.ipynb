{
 "cells": [
  {
   "cell_type": "code",
   "execution_count": 11,
   "metadata": {},
   "outputs": [],
   "source": [
    "from pathlib import Path\n",
    "\n",
    "import plotnine as pn\n",
    "import polars as pl\n",
    "import srsly\n",
    "from src.utilities import load_tokenizer_with_vocab_size"
   ]
  },
  {
   "cell_type": "code",
   "execution_count": 2,
   "metadata": {},
   "outputs": [],
   "source": [
    "path = Path(\"/home/pl487/rdd/tokenizer_train/2024-08-30T12-00-43/\")"
   ]
  },
  {
   "cell_type": "code",
   "execution_count": 3,
   "metadata": {},
   "outputs": [],
   "source": [
    "impl_merges = pl.DataFrame(srsly.read_jsonl(path / \"implemented_merges.jsonl\"))"
   ]
  },
  {
   "cell_type": "code",
   "execution_count": 4,
   "metadata": {},
   "outputs": [
    {
     "data": {
      "text/html": [
       "<div><style>\n",
       ".dataframe > thead > tr,\n",
       ".dataframe > tbody > tr {\n",
       "  text-align: right;\n",
       "  white-space: pre-wrap;\n",
       "}\n",
       "</style>\n",
       "<small>shape: (319_790, 6)</small><table border=\"1\" class=\"dataframe\"><thead><tr><th>pair</th><th>part_a</th><th>part_b</th><th>count</th><th>new_token_id</th><th>new_token</th></tr><tr><td>list[i64]</td><td>str</td><td>str</td><td>i64</td><td>i64</td><td>str</td></tr></thead><tbody><tr><td>[175, 84]</td><td>&quot;Ġ&quot;</td><td>&quot;t&quot;</td><td>956771951</td><td>210</td><td>&quot;Ġt&quot;</td></tr><tr><td>[175, 65]</td><td>&quot;Ġ&quot;</td><td>&quot;a&quot;</td><td>767475220</td><td>211</td><td>&quot;Ġa&quot;</td></tr><tr><td>[72, 69]</td><td>&quot;h&quot;</td><td>&quot;e&quot;</td><td>718222604</td><td>212</td><td>&quot;he&quot;</td></tr><tr><td>[73, 78]</td><td>&quot;i&quot;</td><td>&quot;n&quot;</td><td>675331749</td><td>213</td><td>&quot;in&quot;</td></tr><tr><td>[82, 69]</td><td>&quot;r&quot;</td><td>&quot;e&quot;</td><td>518221150</td><td>214</td><td>&quot;re&quot;</td></tr><tr><td>&hellip;</td><td>&hellip;</td><td>&hellip;</td><td>&hellip;</td><td>&hellip;</td><td>&hellip;</td></tr><tr><td>[630, 4634]</td><td>&quot;Ġra&quot;</td><td>&quot;za&quot;</td><td>330</td><td>319995</td><td>&quot;Ġraza&quot;</td></tr><tr><td>[660, 12369]</td><td>&quot;ĠY&quot;</td><td>&quot;asa&quot;</td><td>330</td><td>319996</td><td>&quot;ĠYasa&quot;</td></tr><tr><td>[660, 95888]</td><td>&quot;ĠY&quot;</td><td>&quot;uccas&quot;</td><td>330</td><td>319997</td><td>&quot;ĠYuccas&quot;</td></tr><tr><td>[686, 39918]</td><td>&quot;Ġpr&quot;</td><td>&quot;Ã¨s&quot;</td><td>330</td><td>319998</td><td>&quot;ĠprÃ¨s&quot;</td></tr><tr><td>[690, 39634]</td><td>&quot;Ġph&quot;</td><td>&quot;asers&quot;</td><td>330</td><td>319999</td><td>&quot;Ġphasers&quot;</td></tr></tbody></table></div>"
      ],
      "text/plain": [
       "shape: (319_790, 6)\n",
       "┌──────────────┬────────┬────────┬───────────┬──────────────┬───────────┐\n",
       "│ pair         ┆ part_a ┆ part_b ┆ count     ┆ new_token_id ┆ new_token │\n",
       "│ ---          ┆ ---    ┆ ---    ┆ ---       ┆ ---          ┆ ---       │\n",
       "│ list[i64]    ┆ str    ┆ str    ┆ i64       ┆ i64          ┆ str       │\n",
       "╞══════════════╪════════╪════════╪═══════════╪══════════════╪═══════════╡\n",
       "│ [175, 84]    ┆ Ġ      ┆ t      ┆ 956771951 ┆ 210          ┆ Ġt        │\n",
       "│ [175, 65]    ┆ Ġ      ┆ a      ┆ 767475220 ┆ 211          ┆ Ġa        │\n",
       "│ [72, 69]     ┆ h      ┆ e      ┆ 718222604 ┆ 212          ┆ he        │\n",
       "│ [73, 78]     ┆ i      ┆ n      ┆ 675331749 ┆ 213          ┆ in        │\n",
       "│ [82, 69]     ┆ r      ┆ e      ┆ 518221150 ┆ 214          ┆ re        │\n",
       "│ …            ┆ …      ┆ …      ┆ …         ┆ …            ┆ …         │\n",
       "│ [630, 4634]  ┆ Ġra    ┆ za     ┆ 330       ┆ 319995       ┆ Ġraza     │\n",
       "│ [660, 12369] ┆ ĠY     ┆ asa    ┆ 330       ┆ 319996       ┆ ĠYasa     │\n",
       "│ [660, 95888] ┆ ĠY     ┆ uccas  ┆ 330       ┆ 319997       ┆ ĠYuccas   │\n",
       "│ [686, 39918] ┆ Ġpr    ┆ Ã¨s    ┆ 330       ┆ 319998       ┆ ĠprÃ¨s    │\n",
       "│ [690, 39634] ┆ Ġph    ┆ asers  ┆ 330       ┆ 319999       ┆ Ġphasers  │\n",
       "└──────────────┴────────┴────────┴───────────┴──────────────┴───────────┘"
      ]
     },
     "execution_count": 4,
     "metadata": {},
     "output_type": "execute_result"
    }
   ],
   "source": [
    "impl_merges"
   ]
  },
  {
   "cell_type": "code",
   "execution_count": 5,
   "metadata": {},
   "outputs": [],
   "source": [
    "conf = srsly.read_json(path / \"tokenizer.json\")"
   ]
  },
  {
   "cell_type": "code",
   "execution_count": 10,
   "metadata": {},
   "outputs": [
    {
     "data": {
      "text/html": [
       "<div><style>\n",
       ".dataframe > thead > tr,\n",
       ".dataframe > tbody > tr {\n",
       "  text-align: right;\n",
       "  white-space: pre-wrap;\n",
       "}\n",
       "</style>\n",
       "<small>shape: (319_790, 2)</small><table border=\"1\" class=\"dataframe\"><thead><tr><th>part_a</th><th>part_b</th></tr><tr><td>str</td><td>str</td></tr></thead><tbody><tr><td>&quot;Ġ&quot;</td><td>&quot;t&quot;</td></tr><tr><td>&quot;Ġ&quot;</td><td>&quot;a&quot;</td></tr><tr><td>&quot;h&quot;</td><td>&quot;e&quot;</td></tr><tr><td>&quot;i&quot;</td><td>&quot;n&quot;</td></tr><tr><td>&quot;r&quot;</td><td>&quot;e&quot;</td></tr><tr><td>&hellip;</td><td>&hellip;</td></tr><tr><td>&quot;Ġra&quot;</td><td>&quot;za&quot;</td></tr><tr><td>&quot;ĠY&quot;</td><td>&quot;asa&quot;</td></tr><tr><td>&quot;ĠY&quot;</td><td>&quot;uccas&quot;</td></tr><tr><td>&quot;Ġpr&quot;</td><td>&quot;Ã¨s&quot;</td></tr><tr><td>&quot;Ġph&quot;</td><td>&quot;asers&quot;</td></tr></tbody></table></div>"
      ],
      "text/plain": [
       "shape: (319_790, 2)\n",
       "┌────────┬────────┐\n",
       "│ part_a ┆ part_b │\n",
       "│ ---    ┆ ---    │\n",
       "│ str    ┆ str    │\n",
       "╞════════╪════════╡\n",
       "│ Ġ      ┆ t      │\n",
       "│ Ġ      ┆ a      │\n",
       "│ h      ┆ e      │\n",
       "│ i      ┆ n      │\n",
       "│ r      ┆ e      │\n",
       "│ …      ┆ …      │\n",
       "│ Ġra    ┆ za     │\n",
       "│ ĠY     ┆ asa    │\n",
       "│ ĠY     ┆ uccas  │\n",
       "│ Ġpr    ┆ Ã¨s    │\n",
       "│ Ġph    ┆ asers  │\n",
       "└────────┴────────┘"
      ]
     },
     "execution_count": 10,
     "metadata": {},
     "output_type": "execute_result"
    }
   ],
   "source": [
    "pl.DataFrame([{\"part_a\": m[0], \"part_b\": m[1]} for m in conf[\"model\"][\"merges\"]])"
   ]
  },
  {
   "cell_type": "code",
   "execution_count": 14,
   "metadata": {},
   "outputs": [
    {
     "name": "stderr",
     "output_type": "stream",
     "text": [
      "/home/pl487/rdd/.venv/lib/python3.10/site-packages/transformers/tokenization_utils_base.py:1602: FutureWarning: `clean_up_tokenization_spaces` was not set. It will be set to `True` by default. This behavior will be deprecated in transformers v4.45, and will be then set to `False` by default. For more details check this issue: https://github.com/huggingface/transformers/issues/31884\n"
     ]
    }
   ],
   "source": [
    "tok = load_tokenizer_with_vocab_size(path, 1000)"
   ]
  },
  {
   "cell_type": "code",
   "execution_count": 20,
   "metadata": {},
   "outputs": [
    {
     "data": {
      "text/plain": [
       "999"
      ]
     },
     "execution_count": 20,
     "metadata": {},
     "output_type": "execute_result"
    }
   ],
   "source": [
    "max(tok.vocab.values())"
   ]
  },
  {
   "cell_type": "code",
   "execution_count": 31,
   "metadata": {},
   "outputs": [
    {
     "data": {
      "text/plain": [
       "['__class__',\n",
       " '__delattr__',\n",
       " '__dir__',\n",
       " '__doc__',\n",
       " '__eq__',\n",
       " '__format__',\n",
       " '__ge__',\n",
       " '__getattribute__',\n",
       " '__getstate__',\n",
       " '__gt__',\n",
       " '__hash__',\n",
       " '__init__',\n",
       " '__init_subclass__',\n",
       " '__le__',\n",
       " '__lt__',\n",
       " '__module__',\n",
       " '__ne__',\n",
       " '__new__',\n",
       " '__reduce__',\n",
       " '__reduce_ex__',\n",
       " '__repr__',\n",
       " '__setattr__',\n",
       " '__setstate__',\n",
       " '__sizeof__',\n",
       " '__str__',\n",
       " '__subclasshook__',\n",
       " 'byte_fallback',\n",
       " 'continuing_subword_prefix',\n",
       " 'dropout',\n",
       " 'end_of_word_suffix',\n",
       " 'from_file',\n",
       " 'fuse_unk',\n",
       " 'get_trainer',\n",
       " 'id_to_token',\n",
       " 'ignore_merges',\n",
       " 'read_file',\n",
       " 'save',\n",
       " 'token_to_id',\n",
       " 'tokenize',\n",
       " 'unk_token']"
      ]
     },
     "execution_count": 31,
     "metadata": {},
     "output_type": "execute_result"
    }
   ],
   "source": [
    "dir(tok.backend_tokenizer.model)"
   ]
  },
  {
   "cell_type": "code",
   "execution_count": 29,
   "metadata": {},
   "outputs": [],
   "source": [
    "vocab = pl.DataFrame({\"tokens\": [i for i in conf[\"model\"][\"vocab\"]]})"
   ]
  },
  {
   "cell_type": "code",
   "execution_count": 32,
   "metadata": {},
   "outputs": [
    {
     "data": {
      "text/html": [
       "<div><style>\n",
       ".dataframe > thead > tr,\n",
       ".dataframe > tbody > tr {\n",
       "  text-align: right;\n",
       "  white-space: pre-wrap;\n",
       "}\n",
       "</style>\n",
       "<small>shape: (208, 1)</small><table border=\"1\" class=\"dataframe\"><thead><tr><th>tokens</th></tr><tr><td>str</td></tr></thead><tbody><tr><td>&quot;|endoftext|&quot;</td></tr><tr><td>&quot;!&quot;</td></tr><tr><td>&quot;&quot;&quot;</td></tr><tr><td>&quot;#&quot;</td></tr><tr><td>&quot;$&quot;</td></tr><tr><td>&hellip;</td></tr><tr><td>&quot;Ŀ&quot;</td></tr><tr><td>&quot;ŀ&quot;</td></tr><tr><td>&quot;Ł&quot;</td></tr><tr><td>&quot;ł&quot;</td></tr><tr><td>&quot;Ń&quot;</td></tr></tbody></table></div>"
      ],
      "text/plain": [
       "shape: (208, 1)\n",
       "┌─────────────┐\n",
       "│ tokens      │\n",
       "│ ---         │\n",
       "│ str         │\n",
       "╞═════════════╡\n",
       "│ |endoftext| │\n",
       "│ !           │\n",
       "│ \"           │\n",
       "│ #           │\n",
       "│ $           │\n",
       "│ …           │\n",
       "│ Ŀ           │\n",
       "│ ŀ           │\n",
       "│ Ł           │\n",
       "│ ł           │\n",
       "│ Ń           │\n",
       "└─────────────┘"
      ]
     },
     "execution_count": 32,
     "metadata": {},
     "output_type": "execute_result"
    }
   ],
   "source": [
    "vocab.join(impl_merges, left_on=\"tokens\", right_on=\"new_token\", how=\"anti\")"
   ]
  },
  {
   "cell_type": "code",
   "execution_count": 39,
   "metadata": {},
   "outputs": [
    {
     "data": {
      "image/png": "[encoded data removed]"
     },
     "metadata": {
      "image/png": {
       "height": 480,
       "width": 640
      }
     },
     "output_type": "display_data"
    }
   ],
   "source": [
    "(\n",
    "    pn.ggplot(impl_merges.with_row_index(), pn.aes(y=\"index\", x=\"count\")) +\n",
    "    pn.geom_line() +\n",
    "    pn.scale_x_log10()\n",
    ")"
   ]
  },
  {
   "cell_type": "code",
   "execution_count": null,
   "metadata": {},
   "outputs": [],
   "source": []
  }
 ],
 "metadata": {
  "kernelspec": {
   "display_name": ".venv",
   "language": "python",
   "name": "python3"
  },
  "language_info": {
   "codemirror_mode": {
    "name": "ipython",
    "version": 3
   },
   "file_extension": ".py",
   "mimetype": "text/x-python",
   "name": "python",
   "nbconvert_exporter": "python",
   "pygments_lexer": "ipython3",
   "version": "3.10.12"
  }
 },
 "nbformat": 4,
 "nbformat_minor": 2
}
