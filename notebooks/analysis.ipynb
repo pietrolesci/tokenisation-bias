{
 "cells": [
  {
   "cell_type": "code",
   "execution_count": 1,
   "metadata": {},
   "outputs": [],
   "source": [
    "from pathlib import Path\n",
    "\n",
    "import plotnine as pn\n",
    "import polars as pl\n",
    "import srsly\n",
    "from transformers import AutoTokenizer\n",
    "\n",
    "from src.utilities import load_tokenizer_with_vocab_size\n"
   ]
  },
  {
   "cell_type": "code",
   "execution_count": 9,
   "metadata": {},
   "outputs": [],
   "source": [
    "path = Path(\"/home/pl487/rdd/outputs/tokenizer_train/2024-08-30T12-00-43/\")\n",
    "\n",
    "merges = (\n",
    "    pl.DataFrame(srsly.read_jsonl(path / \"implemented_merges.jsonl\"))\n",
    "    .with_columns(pl.col(\"new_token_id\").cast(pl.Int32))\n",
    ")\n",
    "\n",
    "\n",
    "tok = AutoTokenizer.from_pretrained(path / \"tok-vocab32000\")"
   ]
  },
  {
   "cell_type": "code",
   "execution_count": 10,
   "metadata": {},
   "outputs": [],
   "source": [
    "window = 1000\n",
    "df = merges.filter((pl.col(\"new_token_id\") >= tok.vocab_size - window) & (pl.col(\"new_token_id\") < tok.vocab_size + window))"
   ]
  },
  {
   "cell_type": "code",
   "execution_count": 11,
   "metadata": {},
   "outputs": [],
   "source": [
    "full_tokens = df.filter(pl.col(\"new_token_id\") < tok.vocab_size)\n",
    "split_tokens = df.filter(pl.col(\"new_token_id\") >= tok.vocab_size)"
   ]
  },
  {
   "cell_type": "code",
   "execution_count": 12,
   "metadata": {},
   "outputs": [
    {
     "data": {
      "text/html": [
       "<div><style>\n",
       ".dataframe > thead > tr,\n",
       ".dataframe > tbody > tr {\n",
       "  text-align: right;\n",
       "  white-space: pre-wrap;\n",
       "}\n",
       "</style>\n",
       "<small>shape: (1_000, 6)</small><table border=\"1\" class=\"dataframe\"><thead><tr><th>pair</th><th>part_a</th><th>part_b</th><th>count</th><th>new_token_id</th><th>new_token</th></tr><tr><td>list[i64]</td><td>str</td><td>str</td><td>i64</td><td>i32</td><td>str</td></tr></thead><tbody><tr><td>[710, 73]</td><td>&quot;ath&quot;</td><td>&quot;i&quot;</td><td>25738</td><td>31000</td><td>&quot;athi&quot;</td></tr><tr><td>[390, 41]</td><td>&quot;ĠN&quot;</td><td>&quot;I&quot;</td><td>25737</td><td>31001</td><td>&quot;ĠNI&quot;</td></tr><tr><td>[1398, 266]</td><td>&quot;hor&quot;</td><td>&quot;se&quot;</td><td>25735</td><td>31002</td><td>&quot;horse&quot;</td></tr><tr><td>[1037, 69]</td><td>&quot;ĠHow&quot;</td><td>&quot;e&quot;</td><td>25733</td><td>31003</td><td>&quot;ĠHowe&quot;</td></tr><tr><td>[769, 464]</td><td>&quot;Ġfl&quot;</td><td>&quot;ap&quot;</td><td>25729</td><td>31004</td><td>&quot;Ġflap&quot;</td></tr><tr><td>&hellip;</td><td>&hellip;</td><td>&hellip;</td><td>&hellip;</td><td>&hellip;</td><td>&hellip;</td></tr><tr><td>[248, 79]</td><td>&quot;as&quot;</td><td>&quot;o&quot;</td><td>24406</td><td>31995</td><td>&quot;aso&quot;</td></tr><tr><td>[686, 1577]</td><td>&quot;Ġpr&quot;</td><td>&quot;une&quot;</td><td>24406</td><td>31996</td><td>&quot;Ġprune&quot;</td></tr><tr><td>[298, 2867]</td><td>&quot;el&quot;</td><td>&quot;ius&quot;</td><td>24405</td><td>31997</td><td>&quot;elius&quot;</td></tr><tr><td>[320, 717]</td><td>&quot;ĠP&quot;</td><td>&quot;oss&quot;</td><td>24403</td><td>31998</td><td>&quot;ĠPoss&quot;</td></tr><tr><td>[4657, 73]</td><td>&quot;umn&quot;</td><td>&quot;i&quot;</td><td>24400</td><td>31999</td><td>&quot;umni&quot;</td></tr></tbody></table></div>"
      ],
      "text/plain": [
       "shape: (1_000, 6)\n",
       "┌─────────────┬────────┬────────┬───────┬──────────────┬───────────┐\n",
       "│ pair        ┆ part_a ┆ part_b ┆ count ┆ new_token_id ┆ new_token │\n",
       "│ ---         ┆ ---    ┆ ---    ┆ ---   ┆ ---          ┆ ---       │\n",
       "│ list[i64]   ┆ str    ┆ str    ┆ i64   ┆ i32          ┆ str       │\n",
       "╞═════════════╪════════╪════════╪═══════╪══════════════╪═══════════╡\n",
       "│ [710, 73]   ┆ ath    ┆ i      ┆ 25738 ┆ 31000        ┆ athi      │\n",
       "│ [390, 41]   ┆ ĠN     ┆ I      ┆ 25737 ┆ 31001        ┆ ĠNI       │\n",
       "│ [1398, 266] ┆ hor    ┆ se     ┆ 25735 ┆ 31002        ┆ horse     │\n",
       "│ [1037, 69]  ┆ ĠHow   ┆ e      ┆ 25733 ┆ 31003        ┆ ĠHowe     │\n",
       "│ [769, 464]  ┆ Ġfl    ┆ ap     ┆ 25729 ┆ 31004        ┆ Ġflap     │\n",
       "│ …           ┆ …      ┆ …      ┆ …     ┆ …            ┆ …         │\n",
       "│ [248, 79]   ┆ as     ┆ o      ┆ 24406 ┆ 31995        ┆ aso       │\n",
       "│ [686, 1577] ┆ Ġpr    ┆ une    ┆ 24406 ┆ 31996        ┆ Ġprune    │\n",
       "│ [298, 2867] ┆ el     ┆ ius    ┆ 24405 ┆ 31997        ┆ elius     │\n",
       "│ [320, 717]  ┆ ĠP     ┆ oss    ┆ 24403 ┆ 31998        ┆ ĠPoss     │\n",
       "│ [4657, 73]  ┆ umn    ┆ i      ┆ 24400 ┆ 31999        ┆ umni      │\n",
       "└─────────────┴────────┴────────┴───────┴──────────────┴───────────┘"
      ]
     },
     "execution_count": 12,
     "metadata": {},
     "output_type": "execute_result"
    }
   ],
   "source": [
    "full_tokens"
   ]
  },
  {
   "cell_type": "code",
   "execution_count": 156,
   "metadata": {},
   "outputs": [],
   "source": [
    "data = (\n",
    "    pl.scan_parquet('hf://datasets/pietrolesci/slim-pajama-subset-validation/tok-vocab32000/train-*.parquet')\n",
    "    .with_columns(token_index=pl.int_ranges(pl.col(\"input_ids\").list.len()))\n",
    "    .collect()\n",
    ")"
   ]
  },
  {
   "cell_type": "code",
   "execution_count": 157,
   "metadata": {},
   "outputs": [],
   "source": [
    "# get document uid and position of the token in doc for tokens in vocab\n",
    "token_doc_index = (\n",
    "    data\n",
    "    .explode([\"input_ids\", \"token_index\"])\n",
    "    .join(full_tokens.select([\"new_token_id\"]), left_on=\"input_ids\", right_on=\"new_token_id\", how=\"right\")\n",
    ")"
   ]
  },
  {
   "cell_type": "code",
   "execution_count": null,
   "metadata": {},
   "outputs": [],
   "source": []
  },
  {
   "cell_type": "code",
   "execution_count": null,
   "metadata": {},
   "outputs": [],
   "source": []
  },
  {
   "cell_type": "code",
   "execution_count": 63,
   "metadata": {},
   "outputs": [],
   "source": [
    "def loc_of(value) -> pl.Expr:\n",
    "    # https://github.com/pola-rs/polars/issues/5503#issuecomment-1315401973\n",
    "    # only execute if the item is contained in the list\n",
    "    return (\n",
    "        pl.when(pl.col(\"input_ids\").list.contains(value))\n",
    "        .then(\n",
    "            # create array of True/False, then cast to 1's and 0's\n",
    "            # arg_max() then finds the first occurrence of 1, i.e. the first occurence of value\n",
    "            pl.col(\"input_ids\").list.eval((pl.element() == value).cast(pl.UInt8).arg_max(), parallel=True).list.first()\n",
    "        )\n",
    "        .otherwise(None) # return null if not found\n",
    "    )"
   ]
  },
  {
   "cell_type": "code",
   "execution_count": 68,
   "metadata": {},
   "outputs": [],
   "source": [
    "min_context_len = 200\n",
    "max_num_seq = 1_000\n",
    "seq_with_token = (\n",
    "    data\n",
    "    .with_columns(loc=loc_of(14))\n",
    "    .drop_nulls(\"loc\")\n",
    "    .filter(pl.col(\"loc\") >= min_context_len)\n",
    "    .sort(\"loc\", descending=True)\n",
    "    .head(max_num_seq)\n",
    "    # .collect()\n",
    ")"
   ]
  },
  {
   "cell_type": "code",
   "execution_count": 92,
   "metadata": {},
   "outputs": [
    {
     "data": {
      "text/html": [
       "<div><style>\n",
       ".dataframe > thead > tr,\n",
       ".dataframe > tbody > tr {\n",
       "  text-align: right;\n",
       "  white-space: pre-wrap;\n",
       "}\n",
       "</style>\n",
       "<small>shape: (1_000, 3)</small><table border=\"1\" class=\"dataframe\"><thead><tr><th>uid</th><th>input_ids</th><th>loc</th></tr><tr><td>u32</td><td>list[i32]</td><td>u32</td></tr></thead><tbody><tr><td>447805</td><td>[60, 60, … 14]</td><td>65554</td></tr><tr><td>72472</td><td>[24625, 9297, … 14]</td><td>9663</td></tr><tr><td>62777</td><td>[14909, 212, … 14]</td><td>5276</td></tr><tr><td>102865</td><td>[2692, 4951, … 14]</td><td>4863</td></tr><tr><td>275010</td><td>[26, 409, … 14]</td><td>4138</td></tr><tr><td>&hellip;</td><td>&hellip;</td><td>&hellip;</td></tr><tr><td>304352</td><td>[17816, 2301, … 14]</td><td>376</td></tr><tr><td>312298</td><td>[1944, 174, … 14]</td><td>376</td></tr><tr><td>349012</td><td>[20, 15, … 14]</td><td>376</td></tr><tr><td>3096</td><td>[1347, 6700, … 14]</td><td>375</td></tr><tr><td>423189</td><td>[48, 733, … 14]</td><td>375</td></tr></tbody></table></div>"
      ],
      "text/plain": [
       "shape: (1_000, 3)\n",
       "┌────────┬─────────────────────┬───────┐\n",
       "│ uid    ┆ input_ids           ┆ loc   │\n",
       "│ ---    ┆ ---                 ┆ ---   │\n",
       "│ u32    ┆ list[i32]           ┆ u32   │\n",
       "╞════════╪═════════════════════╪═══════╡\n",
       "│ 447805 ┆ [60, 60, … 14]      ┆ 65554 │\n",
       "│ 72472  ┆ [24625, 9297, … 14] ┆ 9663  │\n",
       "│ 62777  ┆ [14909, 212, … 14]  ┆ 5276  │\n",
       "│ 102865 ┆ [2692, 4951, … 14]  ┆ 4863  │\n",
       "│ 275010 ┆ [26, 409, … 14]     ┆ 4138  │\n",
       "│ …      ┆ …                   ┆ …     │\n",
       "│ 304352 ┆ [17816, 2301, … 14] ┆ 376   │\n",
       "│ 312298 ┆ [1944, 174, … 14]   ┆ 376   │\n",
       "│ 349012 ┆ [20, 15, … 14]      ┆ 376   │\n",
       "│ 3096   ┆ [1347, 6700, … 14]  ┆ 375   │\n",
       "│ 423189 ┆ [48, 733, … 14]     ┆ 375   │\n",
       "└────────┴─────────────────────┴───────┘"
      ]
     },
     "execution_count": 92,
     "metadata": {},
     "output_type": "execute_result"
    }
   ],
   "source": [
    "(\n",
    "    seq_with_token\n",
    "    .with_columns(pl.col(\"input_ids\").list.slice(pl.col(\"loc\") - min_context_len, min_context_len + 1))\n",
    ")"
   ]
  },
  {
   "cell_type": "code",
   "execution_count": 113,
   "metadata": {},
   "outputs": [],
   "source": [
    "q = split_tokens.with_columns(pl.col(\"pair\").cast(pl.List(pl.String)).list.join(\",\"))[\"pair\"][0]"
   ]
  },
  {
   "cell_type": "code",
   "execution_count": 116,
   "metadata": {},
   "outputs": [
    {
     "data": {
      "text/html": [
       "<div><style>\n",
       ".dataframe > thead > tr,\n",
       ".dataframe > tbody > tr {\n",
       "  text-align: right;\n",
       "  white-space: pre-wrap;\n",
       "}\n",
       "</style>\n",
       "<small>shape: (136, 2)</small><table border=\"1\" class=\"dataframe\"><thead><tr><th>uid</th><th>input_ids</th></tr><tr><td>u32</td><td>list[i32]</td></tr></thead><tbody><tr><td>5509</td><td>[8, 30197, … 14]</td></tr><tr><td>6084</td><td>[2087, 9755, … 1074]</td></tr><tr><td>7077</td><td>[12588, 228, … 227]</td></tr><tr><td>12641</td><td>[15167, 8273, … 14]</td></tr><tr><td>12979</td><td>[18094, 256, … 4435]</td></tr><tr><td>&hellip;</td><td>&hellip;</td></tr><tr><td>484729</td><td>[4829, 785, … 1944]</td></tr><tr><td>490542</td><td>[2748, 2324, … 6588]</td></tr><tr><td>493797</td><td>[43, 13, … 16113]</td></tr><tr><td>496269</td><td>[2253, 238, … 14]</td></tr><tr><td>501925</td><td>[20972, 6096, … 1509]</td></tr></tbody></table></div>"
      ],
      "text/plain": [
       "shape: (136, 2)\n",
       "┌────────┬───────────────────────┐\n",
       "│ uid    ┆ input_ids             │\n",
       "│ ---    ┆ ---                   │\n",
       "│ u32    ┆ list[i32]             │\n",
       "╞════════╪═══════════════════════╡\n",
       "│ 5509   ┆ [8, 30197, … 14]      │\n",
       "│ 6084   ┆ [2087, 9755, … 1074]  │\n",
       "│ 7077   ┆ [12588, 228, … 227]   │\n",
       "│ 12641  ┆ [15167, 8273, … 14]   │\n",
       "│ 12979  ┆ [18094, 256, … 4435]  │\n",
       "│ …      ┆ …                     │\n",
       "│ 484729 ┆ [4829, 785, … 1944]   │\n",
       "│ 490542 ┆ [2748, 2324, … 6588]  │\n",
       "│ 493797 ┆ [43, 13, … 16113]     │\n",
       "│ 496269 ┆ [2253, 238, … 14]     │\n",
       "│ 501925 ┆ [20972, 6096, … 1509] │\n",
       "└────────┴───────────────────────┘"
      ]
     },
     "execution_count": 116,
     "metadata": {},
     "output_type": "execute_result"
    }
   ],
   "source": [
    "(\n",
    "    data\n",
    "    # .head()\n",
    "    .filter(pl.col(\"input_ids\").cast(pl.List(pl.String)).list.join(\",\").str.contains(q))\n",
    ")"
   ]
  },
  {
   "cell_type": "code",
   "execution_count": null,
   "metadata": {},
   "outputs": [],
   "source": []
  },
  {
   "cell_type": "code",
   "execution_count": 45,
   "metadata": {},
   "outputs": [
    {
     "data": {
      "text/plain": [
       "71"
      ]
     },
     "execution_count": 45,
     "metadata": {},
     "output_type": "execute_result"
    }
   ],
   "source": [
    "data[1][\"input_ids\"].to_list()[0].index(14)"
   ]
  },
  {
   "cell_type": "code",
   "execution_count": 31,
   "metadata": {},
   "outputs": [
    {
     "data": {
      "text/html": [
       "<div><style>\n",
       ".dataframe > thead > tr,\n",
       ".dataframe > tbody > tr {\n",
       "  text-align: right;\n",
       "  white-space: pre-wrap;\n",
       "}\n",
       "</style>\n",
       "<small>shape: (1_071_575, 2)</small><table border=\"1\" class=\"dataframe\"><thead><tr><th>uid</th><th>input_ids</th></tr><tr><td>u32</td><td>i32</td></tr></thead><tbody><tr><td>1</td><td>18090</td></tr><tr><td>1</td><td>18834</td></tr><tr><td>1</td><td>13</td></tr><tr><td>1</td><td>35</td></tr><tr><td>1</td><td>1986</td></tr><tr><td>&hellip;</td><td>&hellip;</td></tr><tr><td>1080</td><td>268</td></tr><tr><td>1080</td><td>598</td></tr><tr><td>1080</td><td>787</td></tr><tr><td>1080</td><td>2434</td></tr><tr><td>1080</td><td>14</td></tr></tbody></table></div>"
      ],
      "text/plain": [
       "shape: (1_071_575, 2)\n",
       "┌──────┬───────────┐\n",
       "│ uid  ┆ input_ids │\n",
       "│ ---  ┆ ---       │\n",
       "│ u32  ┆ i32       │\n",
       "╞══════╪═══════════╡\n",
       "│ 1    ┆ 18090     │\n",
       "│ 1    ┆ 18834     │\n",
       "│ 1    ┆ 13        │\n",
       "│ 1    ┆ 35        │\n",
       "│ 1    ┆ 1986      │\n",
       "│ …    ┆ …         │\n",
       "│ 1080 ┆ 268       │\n",
       "│ 1080 ┆ 598       │\n",
       "│ 1080 ┆ 787       │\n",
       "│ 1080 ┆ 2434      │\n",
       "│ 1080 ┆ 14        │\n",
       "└──────┴───────────┘"
      ]
     },
     "execution_count": 31,
     "metadata": {},
     "output_type": "execute_result"
    }
   ],
   "source": [
    "(\n",
    "    data\n",
    "    .explode(\"input_ids\")\n",
    "    .with_columns(j=pl.first().cumcount().over('i'))\n",
    ")"
   ]
  },
  {
   "cell_type": "code",
   "execution_count": null,
   "metadata": {},
   "outputs": [],
   "source": []
  },
  {
   "cell_type": "code",
   "execution_count": null,
   "metadata": {},
   "outputs": [],
   "source": [
    "merges"
   ]
  },
  {
   "cell_type": "code",
   "execution_count": null,
   "metadata": {},
   "outputs": [],
   "source": []
  },
  {
   "cell_type": "code",
   "execution_count": null,
   "metadata": {},
   "outputs": [],
   "source": [
    "max(tok.vocab.values())"
   ]
  },
  {
   "cell_type": "code",
   "execution_count": null,
   "metadata": {},
   "outputs": [],
   "source": []
  },
  {
   "cell_type": "code",
   "execution_count": null,
   "metadata": {},
   "outputs": [],
   "source": []
  },
  {
   "cell_type": "code",
   "execution_count": null,
   "metadata": {},
   "outputs": [],
   "source": []
  },
  {
   "cell_type": "code",
   "execution_count": null,
   "metadata": {},
   "outputs": [],
   "source": []
  },
  {
   "cell_type": "code",
   "execution_count": null,
   "metadata": {},
   "outputs": [],
   "source": []
  },
  {
   "cell_type": "code",
   "execution_count": null,
   "metadata": {},
   "outputs": [],
   "source": [
    "conf = srsly.read_json(path / \"tokenizer.json\")"
   ]
  },
  {
   "cell_type": "code",
   "execution_count": null,
   "metadata": {},
   "outputs": [],
   "source": [
    "pl.DataFrame([{\"part_a\": m[0], \"part_b\": m[1]} for m in conf[\"model\"][\"merges\"]])"
   ]
  },
  {
   "cell_type": "code",
   "execution_count": null,
   "metadata": {},
   "outputs": [],
   "source": [
    "tok = load_tokenizer_with_vocab_size(path, 1000)"
   ]
  },
  {
   "cell_type": "code",
   "execution_count": null,
   "metadata": {},
   "outputs": [],
   "source": [
    "max(tok.vocab.values())"
   ]
  },
  {
   "cell_type": "code",
   "execution_count": null,
   "metadata": {},
   "outputs": [],
   "source": [
    "dir(tok.backend_tokenizer.model)"
   ]
  },
  {
   "cell_type": "code",
   "execution_count": null,
   "metadata": {},
   "outputs": [],
   "source": [
    "vocab = pl.DataFrame({\"tokens\": [i for i in conf[\"model\"][\"vocab\"]]})"
   ]
  },
  {
   "cell_type": "code",
   "execution_count": null,
   "metadata": {},
   "outputs": [],
   "source": [
    "vocab.join(impl_merges, left_on=\"tokens\", right_on=\"new_token\", how=\"anti\")"
   ]
  },
  {
   "cell_type": "code",
   "execution_count": null,
   "metadata": {},
   "outputs": [],
   "source": [
    "(pn.ggplot(impl_merges.with_row_index(), pn.aes(y=\"index\", x=\"count\")) + pn.geom_line() + pn.scale_x_log10())"
   ]
  },
  {
   "cell_type": "code",
   "execution_count": null,
   "metadata": {},
   "outputs": [],
   "source": []
  }
 ],
 "metadata": {
  "kernelspec": {
   "display_name": ".venv",
   "language": "python",
   "name": "python3"
  },
  "language_info": {
   "codemirror_mode": {
    "name": "ipython",
    "version": 3
   },
   "file_extension": ".py",
   "mimetype": "text/x-python",
   "name": "python",
   "nbconvert_exporter": "python",
   "pygments_lexer": "ipython3",
   "version": "3.10.12"
  }
 },
 "nbformat": 4,
 "nbformat_minor": 2
}
