{
 "cells": [
  {
   "cell_type": "code",
   "execution_count": 6,
   "metadata": {},
   "outputs": [],
   "source": [
    "from pathlib import Path\n",
    "\n",
    "import polars as pl\n",
    "import srsly\n",
    "from datasets import Dataset, load_from_disk\n",
    "from IPython.display import HTML, display\n",
    "from transformers import AutoTokenizer, PreTrainedTokenizer\n"
   ]
  },
  {
   "cell_type": "code",
   "execution_count": 2,
   "metadata": {},
   "outputs": [],
   "source": [
    "# # Get dataset\n",
    "# splits = {'validation': 'data/validation-00000-of-00001-a2192e61a091cecb.parquet', 'test': 'data/test-00000-of-00001-010a6231c4b54d31.parquet'}\n",
    "# df = pl.concat([\n",
    "#     pl.scan_parquet(f'hf://datasets/JeanKaddour/minipile/{v}').with_columns(split=pl.lit(k)) \n",
    "#     for k, v in splits.items()\n",
    "# ]).collect()\n",
    "# df = df.with_row_index().rename({\"index\": \"uid\"})\n",
    "# df.write_parquet(\"data/minipile-eval.parquet\")"
   ]
  },
  {
   "cell_type": "code",
   "execution_count": 7,
   "metadata": {},
   "outputs": [],
   "source": [
    "tok_type = \"bpe\"\n",
    "vocab_size = 32_000\n",
    "dataset = \"minipile\"\n",
    "tok_path = Path(f\"./outputs/tokenizers/{tok_type}{vocab_size}{dataset}\")\n",
    "\n",
    "tok = AutoTokenizer.from_pretrained(tok_path)\n",
    "\n",
    "out_path = Path(f\"data/{dataset}-eval-{tok_type}{vocab_size}{dataset}\")\n",
    "out_path.mkdir(exist_ok=True, parents=True)"
   ]
  },
  {
   "cell_type": "code",
   "execution_count": 3,
   "metadata": {},
   "outputs": [],
   "source": [
    "# # Load tokenized corpus\n",
    "# file_path = out_path / \"data.parquet\"\n",
    "# if file_path.exists():\n",
    "#     df = pl.read_parquet(file_path)\n",
    "# else:\n",
    "#     df = (\n",
    "#         pl.scan_parquet(f\"hf://datasets/pietrolesci/slim-pajama-eval/{tok_type}{vocab_size}/train-*.parquet\")\n",
    "#         .with_columns(tok_pos=pl.int_ranges(pl.col(\"input_ids\").list.len()), seq_len=pl.col(\"input_ids\").list.len())\n",
    "#         .collect()\n",
    "#     )\n",
    "#     df.write_parquet(file_path)"
   ]
  },
  {
   "cell_type": "code",
   "execution_count": 4,
   "metadata": {},
   "outputs": [],
   "source": [
    "df = (\n",
    "    pl.read_parquet(\"data/minipile-eval-bpe32000minipile.parquet\")\n",
    "    .with_columns(tok_pos=pl.int_ranges(pl.col(\"input_ids\").list.len()), seq_len=pl.col(\"input_ids\").list.len())\n",
    ")"
   ]
  },
  {
   "cell_type": "code",
   "execution_count": 97,
   "metadata": {},
   "outputs": [],
   "source": [
    "def decode_sequence(tok: PreTrainedTokenizer, input_ids: list[int], highlight_ids: list[int], highlight_color: str = \"green\") -> None:\n",
    "    # Convert token IDs to tokens\n",
    "    tokens = tok.convert_ids_to_tokens(input_ids, skip_special_tokens=False)\n",
    "\n",
    "    # Highlight tokens that are in highlight_ids\n",
    "    highlighted_tokens = [\n",
    "        f\"<span style='background-color:{highlight_color}'>{tok}</span>\" if input_ids[i] in highlight_ids else tok\n",
    "        for i, tok in enumerate(tokens)\n",
    "    ]\n",
    "\n",
    "    # Convert tokens back to a single string\n",
    "    decoded_string = tok.convert_tokens_to_string(highlighted_tokens)\n",
    "\n",
    "    # Display the result in Jupyter notebook\n",
    "    display(HTML(decoded_string))"
   ]
  },
  {
   "cell_type": "code",
   "execution_count": 43,
   "metadata": {},
   "outputs": [],
   "source": [
    "eval_df = pl.from_arrow(load_from_disk(\"data/minipile-eval-bpe32000minipile/eval_samples/\").data.table)"
   ]
  },
  {
   "cell_type": "code",
   "execution_count": 66,
   "metadata": {},
   "outputs": [],
   "source": [
    "eval_df = eval_df.sort(\"new_token_id\")"
   ]
  },
  {
   "cell_type": "code",
   "execution_count": 117,
   "metadata": {},
   "outputs": [
    {
     "name": "stdout",
     "output_type": "stream",
     "text": [
      "Token index: 31989, Token: ['Stop']\n"
     ]
    },
    {
     "data": {
      "text/html": [
       "   | System.Windows.Forms.AnchorStyles.Left) \n",
       "            | System.Windows.Forms.AnchorStyles.Right)));\n",
       "            this.pictureBoxLogo.Location = new System.Drawing.Point(12, 12);\n",
       "            this.pictureBoxLogo.Name = \"pictureBoxLogo\";\n",
       "            this.pictureBoxLogo.Size = new System.Drawing.Size(128, 128);\n",
       "            this.pictureBoxLogo.SizeMode = System.Windows.Forms.PictureBoxSizeMode.AutoSize;\n",
       "            this.pictureBoxLogo.TabIndex = 0;\n",
       "            this.pictureBoxLogo.Tab<span style='background-color:green'>Stop</span> = false;\n",
       "            // \n",
       "            // labelProductName\n",
       "            // \n",
       "            this.labelProductName.Anchor = ((System.Windows.Forms.AnchorStyles)((((System.Windows.Forms.AnchorStyles.Top | System.Windows.Forms.AnchorStyles.Bottom) \n",
       "            | System.Windows.Forms.AnchorStyles.Left) \n",
       "            | System.Windows.Forms.AnchorStyles.Right)));\n",
       "            this.labelProductName.AutoSize = true;\n",
       "            this.labelProductName.Font = new System.Drawing.Font(\"Microsoft Sans Serif\", 15.75F, System.Drawing.FontStyle.Bold, System.Drawing.GraphicsUnit.Point, ((byte)(0)));\n",
       "            this.labelProductName.Location = new System.Drawing.Point(146, 12);\n",
       "            this.labelProductName.Name = \"labelProductName\";\n",
       "            this.labelProductName.Size = new System.Drawing.Size(201, 25);\n",
       "            this.labelProductName.TabIndex = 0;\n",
       "            this.labelProductName.Text = \"openBVE v0.0.0.0\";\n",
       "            // \n",
       "            // textBoxMain\n",
       "            // \n",
       "            this.textBoxMain.Anchor = ((System.Windows.Forms.AnchorStyles)((((System.Windows.Forms.AnchorStyles.Top | System.Windows.Forms.AnchorStyles.Bottom) \n",
       "            | System.Windows.Forms.AnchorStyles.Left) \n",
       "            | System.Windows.Forms.AnchorStyles.Right)));\n",
       "            this.textBoxMain.BackColor = System.Drawing.SystemColors.Control;\n",
       "            this.textBoxMain.BorderStyle = System.Windows.Forms.BorderStyle.None;\n",
       "            this.textBoxMain.Location = new System.Drawing.Point(147, 41);\n",
       "            this.textBoxMain.Multiline = true;\n",
       "            this.textBoxMain.Name = \"textBoxMain\";\n",
       "            this.textBoxMain.ReadOnly = true;\n",
       "            this.textBoxMain.Size = new System.Drawing.Size(315, 80);\n",
       "            this.textBoxMain.TabIndex = 1;\n",
       "            this.textBoxMain.Tab<span style='background-color:green'>Stop</span> = false;\n",
       "            this.textBoxMain.Text = resources.GetString(\"textBoxMain.Text\");\n",
       "            // \n",
       "            // label1\n",
       "            // \n",
       "            this.label1.Anchor = ((System.Windows.Forms.AnchorStyles)((((System.Windows.Forms.AnchorStyles.Top | System.Windows.Forms.AnchorStyles.Bottom) \n",
       "            | System.Windows.Forms.AnchorStyles.Left) \n",
       "            | System.Windows.Forms.AnchorStyles.Right)));\n",
       "            this.label1.AutoSize = true;\n",
       "            this.label1.Font = new System.Drawing.Font(\"Microsoft Sans Serif\", 15.75F, System.Drawing.FontStyle.Bold, System.Drawing.GraphicsUnit.Point, ((byte)(0)));\n",
       "            this.label1.Location = new System.Drawing.Point(12, 143);\n",
       "            this.label1.Name = \"label1\";\n",
       "            this.label1.Size = new System.Drawing.Size(251, 25);\n",
       "            this.label1.TabIndex = 2;\n",
       "            this.label1.Text = \"Open-Source Licences\";\n",
       "            // \n",
       "            // textBoxOpenSourceLicences\n",
       "            // \n",
       "            this.textBoxOpenSourceLicences.Anchor = ((System.Windows.Forms.AnchorStyles)((((System.Windows.Forms.AnchorStyles.Top | System.Windows.Forms.AnchorStyles.Bottom) \n",
       "            | System.Windows.Forms.AnchorStyles.Left) \n",
       "            | System.Windows.Forms.AnchorStyles.Right)));\n",
       "            this.textBoxOpenSourceLicences.BackColor = System.Drawing.SystemColors.Control;\n",
       "            this.textBoxOpenSourceLicences.Location = new System.Drawing.Point(17, 188);\n",
       "            this.textBoxOpenSourceLicences.Multiline = true;\n",
       "            this.textBoxOpenSourceLicences.Name = \"textBoxOpenSourceLicences\";\n",
       "            this.textBoxOpenSourceLicences.ReadOnly = true;\n",
       "            this.textBoxOpenSourceLicences.ScrollBars = System.Windows.Forms.ScrollBars.Vertical;\n",
       "            this.textBoxOpenSourceLicences.Size = new System.Drawing.Size(454, 160);\n",
       "            this.textBoxOpenSourceLicences.TabIndex = 4;\n",
       "            this.textBoxOpenSourceLicences.Tab<span style='background-color:green'>Stop</span>"
      ],
      "text/plain": [
       "<IPython.core.display.HTML object>"
      ]
     },
     "metadata": {},
     "output_type": "display_data"
    }
   ],
   "source": [
    "doc_idx = 52000\n",
    "input_ids = eval_df[\"input_ids\"][doc_idx].to_list()\n",
    "highlight_ids = eval_df[\"new_token_id\"][doc_idx]\n",
    "\n",
    "print(f\"Token index: {highlight_ids}, Token: {tok.convert_ids_to_tokens([highlight_ids])}\")\n",
    "decode_sequence(tok, input_ids, [highlight_ids])"
   ]
  },
  {
   "cell_type": "code",
   "execution_count": null,
   "metadata": {},
   "outputs": [],
   "source": []
  },
  {
   "cell_type": "code",
   "execution_count": null,
   "metadata": {},
   "outputs": [],
   "source": []
  },
  {
   "cell_type": "code",
   "execution_count": 47,
   "metadata": {},
   "outputs": [],
   "source": [
    "from datatrove.utils.dataset import DatatroveFolderDataset\n",
    "ds = DatatroveFolderDataset(\n",
    "    \"data/minipile/bpe32000minipile\",\n",
    "    filename_pattern=\"data/minipile/bpe32000minipile/*.ds\",\n",
    "    seq_len=2048,\n",
    "    shuffle=False,\n",
    "    seed=42,\n",
    "    token_size=2,\n",
    ")"
   ]
  },
  {
   "cell_type": "code",
   "execution_count": 52,
   "metadata": {},
   "outputs": [
    {
     "name": "stdout",
     "output_type": "stream",
     "text": [
      "0 198\n"
     ]
    }
   ],
   "source": [
    "for seq_idx, seq in enumerate(ds):\n",
    "    for tok_idx, t in enumerate(seq[\"input_ids\"]):\n",
    "        if t == 0:\n",
    "            print(seq_idx, tok_idx)\n",
    "            break\n",
    "    break"
   ]
  },
  {
   "cell_type": "code",
   "execution_count": 59,
   "metadata": {},
   "outputs": [
    {
     "data": {
      "text/html": [
       "HTC's Vive Pro headset is available to pre-order for $799\n",
       "\n",
       "We've seen plenty of Beats-focused KIRFs in our time, some better than others. Few, however, play quite so directly on the name as OrigAudio's Beets. For $25, adopters get a set of headphones that bear little direct resemblance to Dr. Dre's audio gear of choice, but are no doubt bound to impress friends -- at least, up until they see a root vegetable logo instead of a lower-case B. Thankfully, there's more to it than just amusing and confusing peers. Every purchase will lead to a donation of canned beets (what else?) to the Second Harvest Food Bank of Orange County. For us, that's reason enough to hope that Beats doesn't put the kibosh on OrigAudio's effort. Besides, we could use some accompaniment for our BeetBox.<span style='background-color:green'><|endoftext|></span>Q:\n",
       "\n",
       "NullPointerException in getview of custom adapter\n",
       "\n",
       "I'm getting image from bitmap method and trying to populate the listview. But when i call the bitmap function inside getview the nullpointerException error occurs. please help me... \n",
       "here is my view Activity class:\n",
       "public class Viewactivity extends Activity{\n",
       "\n",
       "    TextView tv;\n",
       "    ImageView im;\n",
       "\n",
       "    @Override\n",
       "    protected void onCreate(Bundle savedInstanceState) {\n",
       "        super.onCreate(savedInstanceState);\n",
       "        setContentView(R.layout.views);\n",
       "\n",
       "        ListView mListView = (ListView)findViewById(R.id.listView);\n",
       "        //array houlds all images\n",
       "        int Images[] = new int[]{\n",
       "            R.drawable.confidential,\n",
       "            ...     \n",
       "            };\n",
       "        //array holds all strings to be drawn in the image\n",
       "\n",
       "        CustomList adaptor = new CustomList(this , Images);\n",
       "        mListView.setAdapter(adaptor);\n",
       "\n",
       "    }\n",
       "\n",
       "    public Bitmap ProcessingBitmap(int image) {\n",
       "        // TODO Auto-generated method stub\n",
       "        Bitmap bm1 = null;\n",
       "        Bitmap newBitmap = null;\n",
       "\n",
       "        final String data =getIntent().getExtras().getString(\"keys\");\n",
       "        bm1 = ((BitmapDrawable) Viewactivity.this.getResources()\n",
       "                .getDrawable(image)).getBitmap();\n",
       "        Config config = bm1.getConfig();\n",
       "        if(config == null){\n",
       "            config = Bitmap.Config.ARGB_8888;\n",
       "        }\n",
       "\n",
       "        newBitmap = Bitmap.createBitmap(bm1.getWidth(), bm1.getHeight(),config);\n",
       "        Canvas newCanvas = new Canvas(newBitmap);\n",
       "\n",
       "        newCanvas.drawBitmap(bm1, 0, 0, null);\n",
       "\n",
       "        if(data != null){\n",
       "            Paint paintText = new Paint(Paint.ANTI_ALIAS_FLAG);\n",
       "            paintText.setColor(Color.RED);\n",
       "            paintText.setTextSize(300);\n",
       "            // paintText.setTextAlign(Align.CENTER);\n",
       "            paintText.setStyle(Style.FILL);\n",
       "            paintText.setShadowLayer(10f, 10f, 10f, Color.BLACK);\n",
       "\n",
       "            Rect rectText = new Rect();\n",
       "            paintText.getTextBounds(data, 0, data.length(), rectText);\n",
       "            paintText.setTextScaleX(1.f);\n",
       "\n",
       "            newCanvas.drawText(data, \n",
       "              0, rectText.height(), paintText);\n",
       "\n",
       "            Toast.makeText(getApplicationContext(), \n",
       "              \"drawText: \" + data, Toast.LENGTH_LONG).show();\n",
       "\n",
       "        }else{\n",
       "            Toast.makeText(getApplicationContext(), \n",
       "              \"caption empty!\", Toast.LENGTH_LONG).show();\n",
       "        }\n",
       "        return newBitmap;\n",
       "\n",
       "    }\n",
       "}\n",
       "\n",
       "this is my adapter class:\n",
       "public class CustomList extends BaseAdapter{\n",
       "\n",
       "    Viewactivity act;\n",
       "    int[] IMAGES;\n",
       "    LayoutInflater inflator;\n",
       "    Context sContext;\n",
       "    //private String[] TEXTS;\n",
       "\n",
       "    public CustomList(Context context, int[] images){\n",
       "        this.IMAGES = images;\n",
       "        //this.TEXTS = texts;\n",
       "        this.sContext = context;\n",
       "        inflator = (LayoutInflater)context.getSystemService(Context.LAYOUT_INFLATER_SERVICE);\n",
       "    }\n",
       "\n",
       "    @Override\n",
       "    public int getCount() {\n",
       "        // TODO Auto-generated method stub\n",
       "        return IMAGES.length;\n",
       "    }\n",
       "\n",
       "    @Override\n",
       "    public Object getItem(int position) {\n",
       "        // TODO Auto-generated method stub\n",
       "        return position;\n",
       "    }\n",
       "\n",
       "    @Override\n",
       "    public long getItemId(int position) {\n",
       "        // TODO Auto-generated method stub\n",
       "        return position;\n",
       "    }\n",
       "\n",
       "    @Override\n",
       "    public View getView(int position, View convertView, ViewGroup parent) {\n",
       "        // TODO Auto-generated method stub\n",
       "        View v = inflator.inflate(R.layout.row_list, parent, false);\n",
       "        final ImageView imageView = (ImageView) v.findViewById(R.id.imageView);\n",
       "        imageView.setImageBitmap(act.ProcessingBitmap(IMAGES[position]));// line no:52\n",
       "        return imageView;\n",
       "    }\n",
       "}\n",
       "\n",
       "this is my logcat:\n",
       "12-18 06:16:51.406: E/AndroidRuntime(1388): FATAL EXCEPTION: main\n",
       "12-18 06:16:51.406: E/AndroidRuntime(1388): Process: com.emple.example, PID: 1388\n",
       "12-18 06:16:51.406: E/AndroidRuntime(1388): java.lang.NullPointerException\n",
       "12-18 06:16:51.406: E/AndroidRuntime(1388):     at com.emple.example.CustomList.getView(CustomList.java:52)\n",
       "12-18 06"
      ],
      "text/plain": [
       "<IPython.core.display.HTML object>"
      ]
     },
     "metadata": {},
     "output_type": "display_data"
    }
   ],
   "source": [
    "decode_sequence(tok, seq[\"input_ids\"].tolist(), [0])"
   ]
  },
  {
   "cell_type": "code",
   "execution_count": null,
   "metadata": {},
   "outputs": [],
   "source": []
  },
  {
   "cell_type": "code",
   "execution_count": null,
   "metadata": {},
   "outputs": [],
   "source": []
  },
  {
   "cell_type": "code",
   "execution_count": null,
   "metadata": {},
   "outputs": [],
   "source": []
  },
  {
   "cell_type": "code",
   "execution_count": null,
   "metadata": {},
   "outputs": [],
   "source": []
  },
  {
   "cell_type": "code",
   "execution_count": 18,
   "metadata": {},
   "outputs": [],
   "source": [
    "# Load merges\n",
    "with (tok_path / \"raw_tok_path.txt\").open(\"r\") as fl:\n",
    "    raw_tok_path = Path(fl.read())\n",
    "\n",
    "merges_df = pl.DataFrame(srsly.read_jsonl(raw_tok_path / \"implemented_merges.jsonl\")).with_columns(\n",
    "    pl.col(\"new_token_id\").cast(pl.Int32)\n",
    ")"
   ]
  },
  {
   "cell_type": "code",
   "execution_count": 19,
   "metadata": {},
   "outputs": [],
   "source": [
    "# Get window around cutoff\n",
    "num_tok_window = 1_500\n",
    "window_df = merges_df.filter(\n",
    "    (pl.col(\"new_token_id\") >= vocab_size - num_tok_window) & (pl.col(\"new_token_id\") < vocab_size + num_tok_window)\n",
    ")"
   ]
  },
  {
   "cell_type": "code",
   "execution_count": 20,
   "metadata": {},
   "outputs": [],
   "source": [
    "# Create query for in- and out- of vocab tokens around the cutoff\n",
    "in_vocab = window_df.filter(pl.col(\"new_token_id\") < vocab_size)\n",
    "\n",
    "out_vocab = window_df.filter(pl.col(\"new_token_id\") >= vocab_size)\n",
    "out_vocab = (\n",
    "    out_vocab.with_columns(pl.col(\"pair\").list.to_struct())\n",
    "    .unnest(\"pair\")\n",
    "    .rename({\"field_0\": \"tok_a\", \"field_1\": \"tok_b\"})\n",
    "    .with_columns(pl.col(\"tok_a\").cast(pl.Int32), pl.col(\"tok_b\").cast(pl.Int32))\n",
    ")"
   ]
  },
  {
   "cell_type": "code",
   "execution_count": 21,
   "metadata": {},
   "outputs": [],
   "source": [
    "# We want at least 3 tokens in the context because\n",
    "# we evaluate on 2 tokens and need 1 for context\n",
    "dfe = df.lazy().explode([\"input_ids\", \"tok_pos\"]).filter(pl.col(\"tok_pos\") >= 3)"
   ]
  },
  {
   "cell_type": "code",
   "execution_count": 22,
   "metadata": {},
   "outputs": [],
   "source": [
    "# Get uid and tok_pos for tokens in window\n",
    "in_vocab_index = (\n",
    "    in_vocab.lazy().select([\"new_token_id\"]).join(dfe, left_on=\"new_token_id\", right_on=\"input_ids\", how=\"inner\")\n",
    ")"
   ]
  },
  {
   "cell_type": "code",
   "execution_count": 23,
   "metadata": {},
   "outputs": [],
   "source": [
    "out_vocab_index = (\n",
    "    out_vocab.lazy()\n",
    "    .select([\"tok_a\", \"tok_b\", \"new_token_id\"])\n",
    "    .join(\n",
    "        dfe.with_columns(next_input_id=pl.col(\"input_ids\").shift(-1)),\n",
    "        left_on=[\"tok_a\", \"tok_b\"],\n",
    "        right_on=[\"input_ids\", \"next_input_id\"],\n",
    "        how=\"inner\",\n",
    "    )\n",
    "    .rename({\"tok_pos\": \"tok_pos_a\"})\n",
    "    .with_columns(tok_pos_b=pl.col(\"tok_pos_a\") + 1)\n",
    "    .filter(pl.col(\"tok_pos_b\") < pl.col(\"seq_len\"))\n",
    ")"
   ]
  },
  {
   "cell_type": "code",
   "execution_count": 24,
   "metadata": {},
   "outputs": [],
   "source": [
    "# # Check\n",
    "# window_df.filter(\n",
    "#     pl.col(\"new_token_id\")\n",
    "#     .is_in(out_vocab_index[\"new_token_id\"].to_list() + in_vocab_index[\"new_token_id\"].to_list())\n",
    "#     .not_()\n",
    "# )"
   ]
  },
  {
   "cell_type": "code",
   "execution_count": 26,
   "metadata": {},
   "outputs": [],
   "source": [
    "# Sample num_samples docs for each token\n",
    "num_samples = 100\n",
    "\n",
    "in_vocab_sample = in_vocab_index.filter(\n",
    "    # https://stackoverflow.com/a/72636610\n",
    "    pl.int_range(pl.len()).shuffle(seed=42).over(\"new_token_id\") < num_samples\n",
    ").collect()\n",
    "\n",
    "out_vocab_sample = out_vocab_index.filter(\n",
    "    # https://stackoverflow.com/a/72636610\n",
    "    pl.int_range(pl.len()).shuffle(seed=42).over(\"new_token_id\") < num_samples\n",
    ").collect()"
   ]
  },
  {
   "cell_type": "code",
   "execution_count": 27,
   "metadata": {},
   "outputs": [],
   "source": [
    "# Get context\n",
    "context_length = 2048\n",
    "\n",
    "in_vocab_df = (\n",
    "    in_vocab_sample.join(df.select([\"uid\", \"input_ids\"]), on=\"uid\", how=\"inner\")\n",
    "    .with_columns(\n",
    "        context_start=(\n",
    "            pl.when(pl.col(\"tok_pos\") > context_length).then(pl.col(\"tok_pos\") - context_length).otherwise(0)\n",
    "        )\n",
    "    )\n",
    "    .with_columns(\n",
    "        context=pl.col(\"input_ids\").list.slice(\n",
    "            offset=pl.col(\"context_start\"), length=pl.col(\"tok_pos\") - pl.col(\"context_start\") + 1\n",
    "        )\n",
    "    )\n",
    "    .drop([\"input_ids\"])\n",
    ")\n",
    "\n",
    "# check that last token in context is exactly the token we want to predict\n",
    "assert in_vocab_df.with_columns(pl.col(\"context\").list.get(-1) == pl.col(\"new_token_id\"))[\"context\"].all()"
   ]
  },
  {
   "cell_type": "code",
   "execution_count": 28,
   "metadata": {},
   "outputs": [],
   "source": [
    "out_vocab_df = (\n",
    "    out_vocab_sample.join(df.select([\"uid\", \"input_ids\"]), on=\"uid\", how=\"left\")\n",
    "    .with_columns(\n",
    "        context_start=(\n",
    "            pl.when(pl.col(\"tok_pos_b\") > context_length).then(pl.col(\"tok_pos_a\") - context_length + 1).otherwise(0)\n",
    "        )\n",
    "    )\n",
    "    .with_columns(\n",
    "        context=pl.col(\"input_ids\").list.slice(\n",
    "            offset=pl.col(\"context_start\"), length=pl.col(\"tok_pos_a\") - pl.col(\"context_start\") + 2\n",
    "        )\n",
    "    )\n",
    "    .drop([\"input_ids\"])\n",
    ")\n",
    "\n",
    "# Check that penultimate token in context is exactly the first token we want to predict\n",
    "assert out_vocab_df.with_columns(pl.col(\"context\").list.get(-2) == pl.col(\"tok_a\"))[\"context\"].all()\n",
    "\n",
    "# Check that last token in context is exactly the second token we want to predict\n",
    "assert out_vocab_df.with_columns(pl.col(\"context\").list.get(-1) == pl.col(\"tok_b\"))[\"context\"].all()"
   ]
  },
  {
   "cell_type": "code",
   "execution_count": 29,
   "metadata": {},
   "outputs": [],
   "source": [
    "in_vocab_df = in_vocab_df.with_columns(context_len=pl.col(\"context\").list.len()).select(\n",
    "    [\"new_token_id\", \"uid\", \"seq_len\", \"tok_pos\", \"context_start\", \"context_len\", \"context\"]\n",
    ")\n",
    "\n",
    "out_vocab_df = out_vocab_df.with_columns(context_len=pl.col(\"context\").list.len()).select(\n",
    "    [\n",
    "        \"new_token_id\",\n",
    "        \"tok_a\",\n",
    "        \"tok_b\",\n",
    "        \"uid\",\n",
    "        \"seq_len\",\n",
    "        \"tok_pos_a\",\n",
    "        \"tok_pos_b\",\n",
    "        \"context_start\",\n",
    "        \"context_len\",\n",
    "        \"context\",\n",
    "    ]\n",
    ")"
   ]
  },
  {
   "cell_type": "code",
   "execution_count": 34,
   "metadata": {},
   "outputs": [],
   "source": [
    "in_vocab_df.write_parquet(out_path / \"in_vocab_samples.parquet\")\n",
    "out_vocab_df.write_parquet(out_path / \"out_vocab_samples.parquet\")"
   ]
  },
  {
   "cell_type": "code",
   "execution_count": 6,
   "metadata": {},
   "outputs": [],
   "source": [
    "in_vocab_df = pl.read_parquet(out_path / \"in_vocab_samples.parquet\")\n",
    "out_vocab_df = pl.read_parquet(out_path / \"out_vocab_samples.parquet\")"
   ]
  },
  {
   "cell_type": "code",
   "execution_count": 35,
   "metadata": {},
   "outputs": [
    {
     "data": {
      "application/vnd.jupyter.widget-view+json": {
       "model_id": "040f5d9bc94d464bac68a36d1fe4e1ff",
       "version_major": 2,
       "version_minor": 0
      },
      "text/plain": [
       "Saving the dataset (0/2 shards):   0%|          | 0/100708 [00:00<?, ? examples/s]"
      ]
     },
     "metadata": {},
     "output_type": "display_data"
    }
   ],
   "source": [
    "all_context = pl.concat(\n",
    "    [\n",
    "        in_vocab_df.rename({\"context\": \"input_ids\"}).select([\"new_token_id\", \"uid\", \"input_ids\"]),\n",
    "        out_vocab_df.rename({\"context\": \"input_ids\"}).select([\"new_token_id\", \"uid\", \"input_ids\"]),\n",
    "    ]\n",
    ")\n",
    "all_context = all_context.sort(pl.col(\"input_ids\").list.len(), descending=True)\n",
    "ds = Dataset.from_polars(all_context)\n",
    "ds.save_to_disk(out_path / \"eval_samples\")"
   ]
  },
  {
   "cell_type": "code",
   "execution_count": 36,
   "metadata": {},
   "outputs": [
    {
     "data": {
      "text/html": [
       "<div><style>\n",
       ".dataframe > thead > tr,\n",
       ".dataframe > tbody > tr {\n",
       "  text-align: right;\n",
       "  white-space: pre-wrap;\n",
       "}\n",
       "</style>\n",
       "<small>shape: (2_703, 2)</small><table border=\"1\" class=\"dataframe\"><thead><tr><th>new_token_id</th><th>count</th></tr><tr><td>i32</td><td>u64</td></tr></thead><tbody><tr><td>31822</td><td>54</td></tr><tr><td>33238</td><td>20</td></tr><tr><td>31975</td><td>20</td></tr><tr><td>32997</td><td>22</td></tr><tr><td>31161</td><td>39</td></tr><tr><td>&hellip;</td><td>&hellip;</td></tr><tr><td>33022</td><td>2</td></tr><tr><td>33420</td><td>6</td></tr><tr><td>33300</td><td>23</td></tr><tr><td>32742</td><td>16</td></tr><tr><td>32792</td><td>12</td></tr></tbody></table></div>"
      ],
      "text/plain": [
       "shape: (2_703, 2)\n",
       "┌──────────────┬───────┐\n",
       "│ new_token_id ┆ count │\n",
       "│ ---          ┆ ---   │\n",
       "│ i32          ┆ u64   │\n",
       "╞══════════════╪═══════╡\n",
       "│ 31822        ┆ 54    │\n",
       "│ 33238        ┆ 20    │\n",
       "│ 31975        ┆ 20    │\n",
       "│ 32997        ┆ 22    │\n",
       "│ 31161        ┆ 39    │\n",
       "│ …            ┆ …     │\n",
       "│ 33022        ┆ 2     │\n",
       "│ 33420        ┆ 6     │\n",
       "│ 33300        ┆ 23    │\n",
       "│ 32742        ┆ 16    │\n",
       "│ 32792        ┆ 12    │\n",
       "└──────────────┴───────┘"
      ]
     },
     "execution_count": 36,
     "metadata": {},
     "output_type": "execute_result"
    }
   ],
   "source": [
    "s# Check\n",
    "all_context[\"new_token_id\"].value_counts().filter(pl.col(\"count\") < num_samples)"
   ]
  },
  {
   "cell_type": "code",
   "execution_count": null,
   "metadata": {},
   "outputs": [],
   "source": []
  }
 ],
 "metadata": {
  "kernelspec": {
   "display_name": ".venv",
   "language": "python",
   "name": "python3"
  },
  "language_info": {
   "codemirror_mode": {
    "name": "ipython",
    "version": 3
   },
   "file_extension": ".py",
   "mimetype": "text/x-python",
   "name": "python",
   "nbconvert_exporter": "python",
   "pygments_lexer": "ipython3",
   "version": "3.10.12"
  }
 },
 "nbformat": 4,
 "nbformat_minor": 2
}
